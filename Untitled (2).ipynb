{
 "cells": [
  {
   "cell_type": "code",
   "execution_count": 1,
   "id": "55d2af4d-e256-47db-b3af-7059eb886237",
   "metadata": {},
   "outputs": [
    {
     "name": "stdout",
     "output_type": "stream",
     "text": [
      "hello to a programming world\n"
     ]
    }
   ],
   "source": [
    "print(\"hello to a programming world\")"
   ]
  },
  {
   "cell_type": "code",
   "execution_count": 2,
   "id": "5738769a-3cb4-45ff-ab90-6516e40ffc3d",
   "metadata": {},
   "outputs": [
    {
     "name": "stdout",
     "output_type": "stream",
     "text": [
      "10\n"
     ]
    }
   ],
   "source": [
    "a = 10\n",
    "print(a)"
   ]
  },
  {
   "cell_type": "code",
   "execution_count": 3,
   "id": "cbe423df-0a58-4101-806e-f58dd431a0cd",
   "metadata": {},
   "outputs": [
    {
     "data": {
      "text/plain": [
       "10"
      ]
     },
     "execution_count": 3,
     "metadata": {},
     "output_type": "execute_result"
    }
   ],
   "source": [
    "a"
   ]
  },
  {
   "cell_type": "code",
   "execution_count": 4,
   "id": "2bf4b972-8c50-4066-aa84-180f45836795",
   "metadata": {},
   "outputs": [
    {
     "data": {
      "text/plain": [
       "int"
      ]
     },
     "execution_count": 4,
     "metadata": {},
     "output_type": "execute_result"
    }
   ],
   "source": [
    "type(a)"
   ]
  },
  {
   "cell_type": "code",
   "execution_count": 5,
   "id": "7f6681ee-2314-463e-a1ae-7b0950183859",
   "metadata": {},
   "outputs": [],
   "source": [
    "a= 2.89"
   ]
  },
  {
   "cell_type": "code",
   "execution_count": 6,
   "id": "67ad255d-330d-4d04-9213-27260385b7d9",
   "metadata": {},
   "outputs": [
    {
     "data": {
      "text/plain": [
       "float"
      ]
     },
     "execution_count": 6,
     "metadata": {},
     "output_type": "execute_result"
    }
   ],
   "source": [
    "type(a)"
   ]
  },
  {
   "cell_type": "code",
   "execution_count": 8,
   "id": "07526ed0-5ea4-4438-bbbc-bf557e6ea6a9",
   "metadata": {},
   "outputs": [],
   "source": [
    "b= True "
   ]
  },
  {
   "cell_type": "code",
   "execution_count": 9,
   "id": "8bd1a637-1c14-4d8c-924f-ee326a8ef055",
   "metadata": {},
   "outputs": [
    {
     "data": {
      "text/plain": [
       "bool"
      ]
     },
     "execution_count": 9,
     "metadata": {},
     "output_type": "execute_result"
    }
   ],
   "source": [
    "type(b)"
   ]
  },
  {
   "cell_type": "code",
   "execution_count": 10,
   "id": "73577561-aad5-46d5-bd24-540555b5e980",
   "metadata": {},
   "outputs": [],
   "source": [
    "a = 50\n",
    "b = 25"
   ]
  },
  {
   "cell_type": "code",
   "execution_count": 11,
   "id": "9975daae-2d6b-4dc2-b8ef-783b8bd1bc7c",
   "metadata": {},
   "outputs": [],
   "source": [
    "d = a+b+25"
   ]
  },
  {
   "cell_type": "code",
   "execution_count": 12,
   "id": "d4e57d0c-7249-4321-af64-a3c20f4492ea",
   "metadata": {},
   "outputs": [
    {
     "name": "stdout",
     "output_type": "stream",
     "text": [
      "100\n"
     ]
    }
   ],
   "source": [
    "print(d)"
   ]
  },
  {
   "cell_type": "code",
   "execution_count": 13,
   "id": "6f9f6f55-d8ee-4a02-99c7-33e3df9a3886",
   "metadata": {},
   "outputs": [
    {
     "name": "stdout",
     "output_type": "stream",
     "text": [
      "Anuj Sharma\n",
      " Aryan Sharma\n"
     ]
    }
   ],
   "source": [
    "c = \"Anuj Sharma\"\n",
    "c2 =\" Aryan Sharma\"\n",
    "print(c)\n",
    "print(c2)"
   ]
  },
  {
   "cell_type": "code",
   "execution_count": 14,
   "id": "ab786e0d-8e2c-471e-90d2-676288389760",
   "metadata": {},
   "outputs": [
    {
     "data": {
      "text/plain": [
       "bool"
      ]
     },
     "execution_count": 14,
     "metadata": {},
     "output_type": "execute_result"
    }
   ],
   "source": [
    "e = True\n",
    "type(e)"
   ]
  },
  {
   "cell_type": "code",
   "execution_count": 15,
   "id": "f3f0f619-ae15-46a1-9454-dc9db8af652f",
   "metadata": {},
   "outputs": [
    {
     "name": "stdout",
     "output_type": "stream",
     "text": [
      "True\n",
      "True\n"
     ]
    },
    {
     "data": {
      "text/plain": [
       "bool"
      ]
     },
     "execution_count": 15,
     "metadata": {},
     "output_type": "execute_result"
    }
   ],
   "source": [
    "e1 = True\n",
    "print(e)\n",
    "print(e1)\n",
    "type(e)\n",
    "type(e1)"
   ]
  },
  {
   "cell_type": "code",
   "execution_count": 16,
   "id": "2b3ce7cb-9e5e-4c79-9027-409006eba659",
   "metadata": {},
   "outputs": [
    {
     "data": {
      "text/plain": [
       "1"
      ]
     },
     "execution_count": 16,
     "metadata": {},
     "output_type": "execute_result"
    }
   ],
   "source": [
    "True- False"
   ]
  },
  {
   "cell_type": "code",
   "execution_count": 17,
   "id": "383edc9e-6cfe-4f5a-b4e5-4daed5623117",
   "metadata": {},
   "outputs": [
    {
     "data": {
      "text/plain": [
       "0"
      ]
     },
     "execution_count": 17,
     "metadata": {},
     "output_type": "execute_result"
    }
   ],
   "source": [
    "True * False"
   ]
  },
  {
   "cell_type": "code",
   "execution_count": 20,
   "id": "8343f6ae-23a9-4b43-851f-def712812299",
   "metadata": {},
   "outputs": [
    {
     "ename": "ZeroDivisionError",
     "evalue": "division by zero",
     "output_type": "error",
     "traceback": [
      "\u001b[0;31m---------------------------------------------------------------------------\u001b[0m",
      "\u001b[0;31mZeroDivisionError\u001b[0m                         Traceback (most recent call last)",
      "Cell \u001b[0;32mIn[20], line 1\u001b[0m\n\u001b[0;32m----> 1\u001b[0m \u001b[38;5;28;43;01mTrue\u001b[39;49;00m\u001b[43m \u001b[49m\u001b[38;5;241;43m/\u001b[39;49m\u001b[43m \u001b[49m\u001b[38;5;28;43;01mFalse\u001b[39;49;00m\n",
      "\u001b[0;31mZeroDivisionError\u001b[0m: division by zero"
     ]
    }
   ],
   "source": [
    "True / False"
   ]
  },
  {
   "cell_type": "code",
   "execution_count": 21,
   "id": "558cdbb0-e305-41f5-8eeb-df3379e8ba9d",
   "metadata": {},
   "outputs": [
    {
     "data": {
      "text/plain": [
       "complex"
      ]
     },
     "execution_count": 21,
     "metadata": {},
     "output_type": "execute_result"
    }
   ],
   "source": [
    "f = 4+7j\n",
    "type(f)"
   ]
  },
  {
   "cell_type": "code",
   "execution_count": 25,
   "id": "b167e0c0-42b4-4ad6-958b-dc70fe8e959b",
   "metadata": {},
   "outputs": [
    {
     "data": {
      "text/plain": [
       "7.0"
      ]
     },
     "execution_count": 25,
     "metadata": {},
     "output_type": "execute_result"
    }
   ],
   "source": [
    "\"\"\"This is extracting \n",
    "a imag part of my \n",
    "complex number\"\"\"\n",
    "f.imag"
   ]
  },
  {
   "cell_type": "code",
   "execution_count": 23,
   "id": "dc534c7d-97ce-48a8-8780-d1d9f69ffd10",
   "metadata": {},
   "outputs": [
    {
     "data": {
      "text/plain": [
       "4.0"
      ]
     },
     "execution_count": 23,
     "metadata": {},
     "output_type": "execute_result"
    }
   ],
   "source": [
    "f.real"
   ]
  },
  {
   "cell_type": "markdown",
   "id": "17c015c5-b70b-4cca-a464-e050c33bb807",
   "metadata": {},
   "source": [
    "## Rules of writting variable in python\n",
    "### 1. don't use python keywords as variable names\n",
    "### 2. remember to use similar cases while calling a variable\n",
    "### 3. Never use spaces between variable names\n",
    "### 4. A variable name never starts with a symbol or a number"
   ]
  },
  {
   "cell_type": "code",
   "execution_count": 28,
   "id": "c44ca26d-afae-4804-993b-7ef03214ec46",
   "metadata": {},
   "outputs": [],
   "source": [
    "a1= 4588"
   ]
  },
  {
   "cell_type": "code",
   "execution_count": 29,
   "id": "8a6daf9c-bc5e-42ca-b4ed-d724bff2c054",
   "metadata": {},
   "outputs": [
    {
     "name": "stdout",
     "output_type": "stream",
     "text": [
      "2144\n"
     ]
    }
   ],
   "source": [
    "a2= 2444\n",
    "a3 = a1-a2\n",
    "print(a3)"
   ]
  },
  {
   "cell_type": "code",
   "execution_count": 31,
   "id": "ff37e8be-4f30-4be2-bf72-fc62d924e215",
   "metadata": {},
   "outputs": [
    {
     "name": "stdout",
     "output_type": "stream",
     "text": [
      "Anuj Love's  Pooja Sharma\n"
     ]
    }
   ],
   "source": [
    "p = \"Anuj \"\n",
    "k = \"Love's \"\n",
    "r= \" Pooja Sharma\"\n",
    "z= p+k+r\n",
    "print(z)"
   ]
  },
  {
   "cell_type": "code",
   "execution_count": 32,
   "id": "9dab49df-c7f0-4d9e-96d8-0664aab3cb48",
   "metadata": {},
   "outputs": [],
   "source": [
    "p= \"Anuj\"\n",
    "a=10\n"
   ]
  },
  {
   "cell_type": "code",
   "execution_count": 34,
   "id": "cbed3a03-f718-463a-ab62-6f9d91a92b23",
   "metadata": {},
   "outputs": [
    {
     "name": "stdin",
     "output_type": "stream",
     "text": [
      "Enter Your Name Anuj Sharma\n"
     ]
    }
   ],
   "source": [
    "p= input(str(\"Enter Your Name\"))"
   ]
  },
  {
   "cell_type": "code",
   "execution_count": 36,
   "id": "9cfe4c82-4f0f-49ff-b5e6-03e54b87f8c5",
   "metadata": {},
   "outputs": [
    {
     "name": "stdin",
     "output_type": "stream",
     "text": [
      "Enter your age 58\n"
     ]
    }
   ],
   "source": [
    "p= int(input(\"Enter your age\"))"
   ]
  },
  {
   "cell_type": "markdown",
   "id": "98689b97-ef0c-4896-a4bd-e015e794d1a4",
   "metadata": {},
   "source": [
    "# Mutability and Imutability"
   ]
  },
  {
   "cell_type": "code",
   "execution_count": 1,
   "id": "7613b7a3-4591-455b-8176-5d41ef224030",
   "metadata": {},
   "outputs": [],
   "source": [
    "A = \"Anuj\"\n",
    "S = \"Sharma\""
   ]
  },
  {
   "cell_type": "code",
   "execution_count": 6,
   "id": "b98ee93a-46b7-46e2-9359-463d62e25ffb",
   "metadata": {},
   "outputs": [
    {
     "name": "stdout",
     "output_type": "stream",
     "text": [
      "AnujSharma\n"
     ]
    }
   ],
   "source": [
    "C = A +  S\n",
    "print (C)"
   ]
  },
  {
   "cell_type": "code",
   "execution_count": 7,
   "id": "ec5bf4fb-ffb0-49a8-9cf5-e27e1188cf86",
   "metadata": {},
   "outputs": [
    {
     "data": {
      "text/plain": [
       "'n'"
      ]
     },
     "execution_count": 7,
     "metadata": {},
     "output_type": "execute_result"
    }
   ],
   "source": [
    "A [1]"
   ]
  },
  {
   "cell_type": "code",
   "execution_count": 8,
   "id": "0cf67066-68bf-459b-871e-102c317af579",
   "metadata": {},
   "outputs": [
    {
     "data": {
      "text/plain": [
       "'n'"
      ]
     },
     "execution_count": 8,
     "metadata": {},
     "output_type": "execute_result"
    }
   ],
   "source": [
    "A [-3]"
   ]
  },
  {
   "cell_type": "code",
   "execution_count": 10,
   "id": "abfdb1cf-97fb-4636-9f9a-8e89fc5bffb7",
   "metadata": {},
   "outputs": [],
   "source": [
    "l = [2,5,9,8,5,7,6,8,7.5,True, \"Anuj\", 5+7j]"
   ]
  },
  {
   "cell_type": "code",
   "execution_count": 11,
   "id": "894090e8-9acd-4234-b955-8e1b71b7ced2",
   "metadata": {},
   "outputs": [
    {
     "data": {
      "text/plain": [
       "'Anuj'"
      ]
     },
     "execution_count": 11,
     "metadata": {},
     "output_type": "execute_result"
    }
   ],
   "source": [
    "l [10]"
   ]
  },
  {
   "cell_type": "code",
   "execution_count": 12,
   "id": "3876d48d-a31d-46ce-9c4c-33bc3f67c26c",
   "metadata": {},
   "outputs": [
    {
     "data": {
      "text/plain": [
       "'Anuj'"
      ]
     },
     "execution_count": 12,
     "metadata": {},
     "output_type": "execute_result"
    }
   ],
   "source": [
    "l [-2]"
   ]
  },
  {
   "cell_type": "code",
   "execution_count": 13,
   "id": "4de6f883-2727-4c96-841d-f608e06fc28b",
   "metadata": {},
   "outputs": [
    {
     "data": {
      "text/plain": [
       "True"
      ]
     },
     "execution_count": 13,
     "metadata": {},
     "output_type": "execute_result"
    }
   ],
   "source": [
    "l[9]"
   ]
  },
  {
   "cell_type": "code",
   "execution_count": 14,
   "id": "cfd756de-72fb-47ec-a1e2-e23d3e24f1a6",
   "metadata": {},
   "outputs": [
    {
     "data": {
      "text/plain": [
       "True"
      ]
     },
     "execution_count": 14,
     "metadata": {},
     "output_type": "execute_result"
    }
   ],
   "source": [
    "l[-3]"
   ]
  },
  {
   "cell_type": "markdown",
   "id": "43b2c591-964a-44b9-8de7-89784cb3848a",
   "metadata": {},
   "source": [
    "## Mutability"
   ]
  },
  {
   "cell_type": "code",
   "execution_count": 16,
   "id": "5212982e-2b84-4570-89b7-c55616b782e7",
   "metadata": {},
   "outputs": [],
   "source": [
    "l [6] = \"Pooja\""
   ]
  },
  {
   "cell_type": "code",
   "execution_count": 17,
   "id": "3176b821-f2af-4185-9b49-0ca38727e00d",
   "metadata": {},
   "outputs": [
    {
     "data": {
      "text/plain": [
       "[2, 5, 9, 8, 5, 7, 'Pooja', 8, 7.5, True, 'Anuj', (5+7j)]"
      ]
     },
     "execution_count": 17,
     "metadata": {},
     "output_type": "execute_result"
    }
   ],
   "source": [
    "l"
   ]
  },
  {
   "cell_type": "markdown",
   "id": "bd7efdea-92e6-4585-8bf5-88e5cbd3d897",
   "metadata": {},
   "source": [
    "## Imutability"
   ]
  },
  {
   "cell_type": "code",
   "execution_count": 20,
   "id": "77131b25-5aa9-4b14-a0c0-27b90192be18",
   "metadata": {},
   "outputs": [],
   "source": [
    "a = \"anuj\""
   ]
  },
  {
   "cell_type": "code",
   "execution_count": null,
   "id": "976d8d60-9267-4b6a-8a22-8366915c860d",
   "metadata": {},
   "outputs": [
    {
     "data": {
      "text/plain": [
       "'anuj'"
      ]
     },
     "execution_count": 21,
     "metadata": {},
     "output_type": "execute_result"
    }
   ],
   "source": [
    "a"
   ]
  },
  {
   "cell_type": "code",
   "execution_count": 22,
   "id": "da3bbd37-a538-4dc9-8b00-b702dcaf0637",
   "metadata": {},
   "outputs": [
    {
     "data": {
      "text/plain": [
       "'u'"
      ]
     },
     "execution_count": 22,
     "metadata": {},
     "output_type": "execute_result"
    }
   ],
   "source": [
    "a [2]"
   ]
  },
  {
   "cell_type": "code",
   "execution_count": 23,
   "id": "9efd8a82-6f47-4e8b-8f37-2c110fc890cb",
   "metadata": {},
   "outputs": [
    {
     "ename": "TypeError",
     "evalue": "'str' object does not support item assignment",
     "output_type": "error",
     "traceback": [
      "\u001b[0;31m---------------------------------------------------------------------------\u001b[0m",
      "\u001b[0;31mTypeError\u001b[0m                                 Traceback (most recent call last)",
      "Cell \u001b[0;32mIn[23], line 1\u001b[0m\n\u001b[0;32m----> 1\u001b[0m \u001b[43ma\u001b[49m\u001b[43m[\u001b[49m\u001b[38;5;241;43m2\u001b[39;49m\u001b[43m]\u001b[49m \u001b[38;5;241m=\u001b[39m a\n",
      "\u001b[0;31mTypeError\u001b[0m: 'str' object does not support item assignment"
     ]
    }
   ],
   "source": [
    "a[2] = a"
   ]
  },
  {
   "cell_type": "markdown",
   "id": "55ccfe33-0021-4a12-a717-a71e97989842",
   "metadata": {},
   "source": [
    "# Operator"
   ]
  },
  {
   "cell_type": "code",
   "execution_count": 24,
   "id": "1ac80b63-501e-4d3a-9970-f737b4e292b4",
   "metadata": {},
   "outputs": [
    {
     "data": {
      "text/plain": [
       "20"
      ]
     },
     "execution_count": 24,
     "metadata": {},
     "output_type": "execute_result"
    }
   ],
   "source": [
    "10 + 10"
   ]
  },
  {
   "cell_type": "code",
   "execution_count": 25,
   "id": "57fa939b-a845-4b53-b281-3849d2541fc4",
   "metadata": {},
   "outputs": [
    {
     "data": {
      "text/plain": [
       "10"
      ]
     },
     "execution_count": 25,
     "metadata": {},
     "output_type": "execute_result"
    }
   ],
   "source": [
    "20 - 10 "
   ]
  },
  {
   "cell_type": "code",
   "execution_count": 26,
   "id": "dcb9599e-99e7-4dbb-85f7-ce1231703865",
   "metadata": {},
   "outputs": [
    {
     "data": {
      "text/plain": [
       "40"
      ]
     },
     "execution_count": 26,
     "metadata": {},
     "output_type": "execute_result"
    }
   ],
   "source": [
    "20 * 2"
   ]
  },
  {
   "cell_type": "code",
   "execution_count": 27,
   "id": "f8bd6652-0ba5-48cb-8087-525306ad28a1",
   "metadata": {},
   "outputs": [
    {
     "data": {
      "text/plain": [
       "5.0"
      ]
     },
     "execution_count": 27,
     "metadata": {},
     "output_type": "execute_result"
    }
   ],
   "source": [
    "20/4"
   ]
  },
  {
   "cell_type": "code",
   "execution_count": 28,
   "id": "2dde2d56-53b8-4138-8ba0-767ec2fceeb0",
   "metadata": {},
   "outputs": [
    {
     "data": {
      "text/plain": [
       "50.0"
      ]
     },
     "execution_count": 28,
     "metadata": {},
     "output_type": "execute_result"
    }
   ],
   "source": [
    "250 / 5"
   ]
  },
  {
   "cell_type": "markdown",
   "id": "065c87ef-ef8c-4a16-b7b4-05adf47229e9",
   "metadata": {},
   "source": [
    "### Remenber operator"
   ]
  },
  {
   "cell_type": "code",
   "execution_count": 29,
   "id": "eca513de-94cf-46b3-91bd-aff02e9e2ad3",
   "metadata": {},
   "outputs": [
    {
     "data": {
      "text/plain": [
       "1"
      ]
     },
     "execution_count": 29,
     "metadata": {},
     "output_type": "execute_result"
    }
   ],
   "source": [
    "4%3"
   ]
  },
  {
   "cell_type": "markdown",
   "id": "1fab2798-a49f-41e3-8afe-1355b60908de",
   "metadata": {},
   "source": [
    "### power operator"
   ]
  },
  {
   "cell_type": "code",
   "execution_count": 30,
   "id": "e091dae6-9d23-4fe9-97ca-82d929177402",
   "metadata": {},
   "outputs": [
    {
     "data": {
      "text/plain": [
       "8"
      ]
     },
     "execution_count": 30,
     "metadata": {},
     "output_type": "execute_result"
    }
   ],
   "source": [
    "2**3"
   ]
  },
  {
   "cell_type": "markdown",
   "id": "652737ae-5441-4093-b928-d14fb613849b",
   "metadata": {},
   "source": [
    "### floor operator"
   ]
  },
  {
   "cell_type": "code",
   "execution_count": 31,
   "id": "912fca2b-344a-4e8c-a7ba-a4e2dc1aa857",
   "metadata": {},
   "outputs": [
    {
     "data": {
      "text/plain": [
       "1"
      ]
     },
     "execution_count": 31,
     "metadata": {},
     "output_type": "execute_result"
    }
   ],
   "source": [
    "4//3"
   ]
  },
  {
   "cell_type": "code",
   "execution_count": 32,
   "id": "708e9f3d-fbe9-41f3-9334-4f9ec4619931",
   "metadata": {},
   "outputs": [
    {
     "data": {
      "text/plain": [
       "False"
      ]
     },
     "execution_count": 32,
     "metadata": {},
     "output_type": "execute_result"
    }
   ],
   "source": [
    "1 > 2"
   ]
  },
  {
   "cell_type": "code",
   "execution_count": 34,
   "id": "efc1e8da-8f04-4543-93b4-20133daaa246",
   "metadata": {},
   "outputs": [
    {
     "data": {
      "text/plain": [
       "True"
      ]
     },
     "execution_count": 34,
     "metadata": {},
     "output_type": "execute_result"
    }
   ],
   "source": [
    "3> 2"
   ]
  },
  {
   "cell_type": "code",
   "execution_count": 35,
   "id": "f9811686-e61f-403a-a3bc-efb992365045",
   "metadata": {},
   "outputs": [
    {
     "data": {
      "text/plain": [
       "False"
      ]
     },
     "execution_count": 35,
     "metadata": {},
     "output_type": "execute_result"
    }
   ],
   "source": [
    "1 == 2"
   ]
  },
  {
   "cell_type": "markdown",
   "id": "f13379e8-cebc-424a-83b1-5805a1b054ae",
   "metadata": {},
   "source": [
    "### Double equal to is comproission operator"
   ]
  },
  {
   "cell_type": "code",
   "execution_count": 36,
   "id": "2cd9c54f-26ff-4a03-9f9a-923f79fe89cc",
   "metadata": {},
   "outputs": [
    {
     "data": {
      "text/plain": [
       "True"
      ]
     },
     "execution_count": 36,
     "metadata": {},
     "output_type": "execute_result"
    }
   ],
   "source": [
    "2 == 2"
   ]
  },
  {
   "cell_type": "markdown",
   "id": "35d5c43f-5e81-4514-aa5e-601995fc4f8c",
   "metadata": {},
   "source": [
    "### != is means not equal to"
   ]
  },
  {
   "cell_type": "code",
   "execution_count": 37,
   "id": "3a4de12d-0972-4220-9ba9-f9de1beb56e5",
   "metadata": {},
   "outputs": [
    {
     "data": {
      "text/plain": [
       "True"
      ]
     },
     "execution_count": 37,
     "metadata": {},
     "output_type": "execute_result"
    }
   ],
   "source": [
    "2!=3"
   ]
  },
  {
   "cell_type": "code",
   "execution_count": 38,
   "id": "e5d14f2f-3c64-49e9-9f82-01fde6800e99",
   "metadata": {},
   "outputs": [
    {
     "data": {
      "text/plain": [
       "False"
      ]
     },
     "execution_count": 38,
     "metadata": {},
     "output_type": "execute_result"
    }
   ],
   "source": [
    "2>= 3"
   ]
  },
  {
   "cell_type": "code",
   "execution_count": 39,
   "id": "d4a9c485-df26-4a25-ad36-062d5d0f5466",
   "metadata": {},
   "outputs": [
    {
     "data": {
      "text/plain": [
       "False"
      ]
     },
     "execution_count": 39,
     "metadata": {},
     "output_type": "execute_result"
    }
   ],
   "source": [
    "3<=2"
   ]
  },
  {
   "cell_type": "code",
   "execution_count": 40,
   "id": "1b0fdc9d-0f6a-496e-9103-085511af5906",
   "metadata": {},
   "outputs": [
    {
     "data": {
      "text/plain": [
       "True"
      ]
     },
     "execution_count": 40,
     "metadata": {},
     "output_type": "execute_result"
    }
   ],
   "source": [
    "4<=5"
   ]
  },
  {
   "cell_type": "code",
   "execution_count": 41,
   "id": "5c7a340d-cc58-4f3c-bbf3-6d4e70343096",
   "metadata": {},
   "outputs": [
    {
     "data": {
      "text/plain": [
       "True"
      ]
     },
     "execution_count": 41,
     "metadata": {},
     "output_type": "execute_result"
    }
   ],
   "source": [
    "2<=3"
   ]
  },
  {
   "cell_type": "markdown",
   "id": "ce91dee5-f6d1-4506-b5bf-ee25b0fc75b0",
   "metadata": {},
   "source": [
    "### Logical operator"
   ]
  },
  {
   "cell_type": "code",
   "execution_count": 42,
   "id": "695845a2-84a9-4668-b37e-f3dc6ab99705",
   "metadata": {},
   "outputs": [
    {
     "data": {
      "text/plain": [
       "False"
      ]
     },
     "execution_count": 42,
     "metadata": {},
     "output_type": "execute_result"
    }
   ],
   "source": [
    "True and False"
   ]
  },
  {
   "cell_type": "code",
   "execution_count": 43,
   "id": "69e434db-5413-4d2c-a957-912032770cdb",
   "metadata": {},
   "outputs": [
    {
     "data": {
      "text/plain": [
       "True"
      ]
     },
     "execution_count": 43,
     "metadata": {},
     "output_type": "execute_result"
    }
   ],
   "source": [
    "True and True "
   ]
  },
  {
   "cell_type": "code",
   "execution_count": 44,
   "id": "432de0cc-6c3c-4314-ab5d-5dc79207fffa",
   "metadata": {},
   "outputs": [
    {
     "data": {
      "text/plain": [
       "False"
      ]
     },
     "execution_count": 44,
     "metadata": {},
     "output_type": "execute_result"
    }
   ],
   "source": [
    "False and True"
   ]
  },
  {
   "cell_type": "code",
   "execution_count": 45,
   "id": "b672da92-8ea4-4fdc-a017-319f6f8cf3d2",
   "metadata": {},
   "outputs": [
    {
     "data": {
      "text/plain": [
       "False"
      ]
     },
     "execution_count": 45,
     "metadata": {},
     "output_type": "execute_result"
    }
   ],
   "source": [
    "False and False"
   ]
  },
  {
   "cell_type": "code",
   "execution_count": 46,
   "id": "5d4ded0f-e2cf-4aaa-8365-757dc2b929e4",
   "metadata": {},
   "outputs": [
    {
     "data": {
      "text/plain": [
       "True"
      ]
     },
     "execution_count": 46,
     "metadata": {},
     "output_type": "execute_result"
    }
   ],
   "source": [
    "True or True"
   ]
  },
  {
   "cell_type": "code",
   "execution_count": 48,
   "id": "32e246dc-0138-492b-a7f6-acd36a5bbe7b",
   "metadata": {},
   "outputs": [
    {
     "data": {
      "text/plain": [
       "True"
      ]
     },
     "execution_count": 48,
     "metadata": {},
     "output_type": "execute_result"
    }
   ],
   "source": [
    "True or False"
   ]
  },
  {
   "cell_type": "code",
   "execution_count": 49,
   "id": "f0ca0817-cff5-4e09-963b-bff3f3512b3c",
   "metadata": {},
   "outputs": [
    {
     "data": {
      "text/plain": [
       "True"
      ]
     },
     "execution_count": 49,
     "metadata": {},
     "output_type": "execute_result"
    }
   ],
   "source": [
    "False or True"
   ]
  },
  {
   "cell_type": "code",
   "execution_count": 50,
   "id": "8059c19e-3494-4d6d-9e66-ecf55b2e4457",
   "metadata": {},
   "outputs": [
    {
     "data": {
      "text/plain": [
       "False"
      ]
     },
     "execution_count": 50,
     "metadata": {},
     "output_type": "execute_result"
    }
   ],
   "source": [
    "False or False"
   ]
  },
  {
   "cell_type": "code",
   "execution_count": 51,
   "id": "12290121-6dba-47aa-8761-4bc8edf39539",
   "metadata": {},
   "outputs": [
    {
     "data": {
      "text/plain": [
       "False"
      ]
     },
     "execution_count": 51,
     "metadata": {},
     "output_type": "execute_result"
    }
   ],
   "source": [
    "True and not True"
   ]
  },
  {
   "cell_type": "code",
   "execution_count": 52,
   "id": "44756efb-b217-41cf-85c1-6fe0f8f18a51",
   "metadata": {},
   "outputs": [
    {
     "data": {
      "text/plain": [
       "True"
      ]
     },
     "execution_count": 52,
     "metadata": {},
     "output_type": "execute_result"
    }
   ],
   "source": [
    "True or not True"
   ]
  },
  {
   "cell_type": "markdown",
   "id": "2e48c132-a4f8-45e8-8816-79c5e1ccd0c8",
   "metadata": {},
   "source": [
    "#### Bitwise operator"
   ]
  },
  {
   "cell_type": "code",
   "execution_count": 53,
   "id": "c3eeacfa-c9a9-4015-bf22-e44bccc6e05c",
   "metadata": {},
   "outputs": [
    {
     "data": {
      "text/plain": [
       "10"
      ]
     },
     "execution_count": 53,
     "metadata": {},
     "output_type": "execute_result"
    }
   ],
   "source": [
    "10 & 10"
   ]
  },
  {
   "cell_type": "code",
   "execution_count": 56,
   "id": "61f0bdd9-7ae0-4af5-9fa5-e009976f3f2d",
   "metadata": {},
   "outputs": [
    {
     "data": {
      "text/plain": [
       "'0b1010'"
      ]
     },
     "execution_count": 56,
     "metadata": {},
     "output_type": "execute_result"
    }
   ],
   "source": [
    "bin(10)"
   ]
  },
  {
   "cell_type": "code",
   "execution_count": 57,
   "id": "08eee6f2-f033-4b4d-9468-142cdb59658b",
   "metadata": {},
   "outputs": [
    {
     "data": {
      "text/plain": [
       "'0b1010'"
      ]
     },
     "execution_count": 57,
     "metadata": {},
     "output_type": "execute_result"
    }
   ],
   "source": [
    "bin(10)"
   ]
  },
  {
   "cell_type": "code",
   "execution_count": 54,
   "id": "c486b7f6-74e4-48f0-bf78-86e30bbc49b2",
   "metadata": {},
   "outputs": [
    {
     "data": {
      "text/plain": [
       "3"
      ]
     },
     "execution_count": 54,
     "metadata": {},
     "output_type": "execute_result"
    }
   ],
   "source": [
    "23 & 3"
   ]
  },
  {
   "cell_type": "code",
   "execution_count": 58,
   "id": "ea752597-4264-4916-8fa6-952c48739f53",
   "metadata": {},
   "outputs": [
    {
     "data": {
      "text/plain": [
       "'0b10111'"
      ]
     },
     "execution_count": 58,
     "metadata": {},
     "output_type": "execute_result"
    }
   ],
   "source": [
    "bin(23)"
   ]
  },
  {
   "cell_type": "code",
   "execution_count": 59,
   "id": "068245a5-9a40-49e7-8d05-4369799e4af2",
   "metadata": {},
   "outputs": [
    {
     "data": {
      "text/plain": [
       "'0b11'"
      ]
     },
     "execution_count": 59,
     "metadata": {},
     "output_type": "execute_result"
    }
   ],
   "source": [
    "bin(3)"
   ]
  },
  {
   "cell_type": "code",
   "execution_count": 55,
   "id": "6269d5f4-308b-4fa5-b1db-740186f6cf20",
   "metadata": {},
   "outputs": [
    {
     "data": {
      "text/plain": [
       "0"
      ]
     },
     "execution_count": 55,
     "metadata": {},
     "output_type": "execute_result"
    }
   ],
   "source": [
    "24 & 5"
   ]
  },
  {
   "cell_type": "code",
   "execution_count": 60,
   "id": "e21976ac-1be1-4267-9874-f9c21f90ed9a",
   "metadata": {},
   "outputs": [
    {
     "data": {
      "text/plain": [
       "'0b11000'"
      ]
     },
     "execution_count": 60,
     "metadata": {},
     "output_type": "execute_result"
    }
   ],
   "source": [
    "bin(24)"
   ]
  },
  {
   "cell_type": "code",
   "execution_count": 61,
   "id": "d0dd4258-826f-428d-9d93-8209f57a41fa",
   "metadata": {},
   "outputs": [
    {
     "data": {
      "text/plain": [
       "'0b101'"
      ]
     },
     "execution_count": 61,
     "metadata": {},
     "output_type": "execute_result"
    }
   ],
   "source": [
    "bin(5)"
   ]
  },
  {
   "cell_type": "code",
   "execution_count": 62,
   "id": "8c20c24c-e834-401e-950a-d1aeec99fff3",
   "metadata": {},
   "outputs": [
    {
     "data": {
      "text/plain": [
       "'0b0'"
      ]
     },
     "execution_count": 62,
     "metadata": {},
     "output_type": "execute_result"
    }
   ],
   "source": [
    "bin(0)"
   ]
  },
  {
   "cell_type": "code",
   "execution_count": 63,
   "id": "5332d334-466b-4665-9f1d-5a144dbf730a",
   "metadata": {},
   "outputs": [
    {
     "data": {
      "text/plain": [
       "1"
      ]
     },
     "execution_count": 63,
     "metadata": {},
     "output_type": "execute_result"
    }
   ],
   "source": [
    "25 & 5"
   ]
  },
  {
   "cell_type": "code",
   "execution_count": 64,
   "id": "d4dbca1c-fb44-4c46-8ecb-a13dcb9eee73",
   "metadata": {},
   "outputs": [
    {
     "data": {
      "text/plain": [
       "'0b11001'"
      ]
     },
     "execution_count": 64,
     "metadata": {},
     "output_type": "execute_result"
    }
   ],
   "source": [
    "bin (25)"
   ]
  },
  {
   "cell_type": "code",
   "execution_count": 65,
   "id": "e160117d-5c1d-4ca6-b515-8f58d769a02e",
   "metadata": {},
   "outputs": [
    {
     "data": {
      "text/plain": [
       "'0b101'"
      ]
     },
     "execution_count": 65,
     "metadata": {},
     "output_type": "execute_result"
    }
   ],
   "source": [
    "bin (5)"
   ]
  },
  {
   "cell_type": "code",
   "execution_count": 66,
   "id": "b06e4c33-dec1-4494-9180-a8e5ef968259",
   "metadata": {},
   "outputs": [
    {
     "data": {
      "text/plain": [
       "'0b1'"
      ]
     },
     "execution_count": 66,
     "metadata": {},
     "output_type": "execute_result"
    }
   ],
   "source": [
    "bin (1)"
   ]
  },
  {
   "cell_type": "code",
   "execution_count": 67,
   "id": "c09ae36a-7913-4103-936f-81afc4b22e72",
   "metadata": {},
   "outputs": [
    {
     "data": {
      "text/plain": [
       "64"
      ]
     },
     "execution_count": 67,
     "metadata": {},
     "output_type": "execute_result"
    }
   ],
   "source": [
    "80 & 70"
   ]
  },
  {
   "cell_type": "code",
   "execution_count": 68,
   "id": "57585352-ea7c-45dc-807f-af3a9f5bf90a",
   "metadata": {},
   "outputs": [
    {
     "data": {
      "text/plain": [
       "'0b1010000'"
      ]
     },
     "execution_count": 68,
     "metadata": {},
     "output_type": "execute_result"
    }
   ],
   "source": [
    "bin( 80)"
   ]
  },
  {
   "cell_type": "code",
   "execution_count": 69,
   "id": "d0bb4e06-0628-4baa-8805-41b20f11f90a",
   "metadata": {},
   "outputs": [
    {
     "data": {
      "text/plain": [
       "'0b1000110'"
      ]
     },
     "execution_count": 69,
     "metadata": {},
     "output_type": "execute_result"
    }
   ],
   "source": [
    "bin (70)"
   ]
  },
  {
   "cell_type": "code",
   "execution_count": 70,
   "id": "9a6d76be-86fd-429c-b13e-39ca21cf7d26",
   "metadata": {},
   "outputs": [
    {
     "data": {
      "text/plain": [
       "'0b1000000'"
      ]
     },
     "execution_count": 70,
     "metadata": {},
     "output_type": "execute_result"
    }
   ],
   "source": [
    "bin (64)"
   ]
  },
  {
   "cell_type": "code",
   "execution_count": 71,
   "id": "1f50cde6-7a81-49c9-aa30-52d2f8495c9e",
   "metadata": {},
   "outputs": [
    {
     "data": {
      "text/plain": [
       "55"
      ]
     },
     "execution_count": 71,
     "metadata": {},
     "output_type": "execute_result"
    }
   ],
   "source": [
    "34 | 23"
   ]
  },
  {
   "cell_type": "code",
   "execution_count": 72,
   "id": "ceb00ea4-c529-4204-995c-8a170f97b21b",
   "metadata": {},
   "outputs": [
    {
     "data": {
      "text/plain": [
       "'0b100010'"
      ]
     },
     "execution_count": 72,
     "metadata": {},
     "output_type": "execute_result"
    }
   ],
   "source": [
    "bin(34)"
   ]
  },
  {
   "cell_type": "code",
   "execution_count": 73,
   "id": "adf8ef41-9159-49a2-bb6a-0ecee9675ff4",
   "metadata": {},
   "outputs": [
    {
     "data": {
      "text/plain": [
       "'0b10111'"
      ]
     },
     "execution_count": 73,
     "metadata": {},
     "output_type": "execute_result"
    }
   ],
   "source": [
    "bin (23)"
   ]
  },
  {
   "cell_type": "code",
   "execution_count": 74,
   "id": "5ad9cfd8-babb-45e0-8894-d078c88294b0",
   "metadata": {},
   "outputs": [
    {
     "data": {
      "text/plain": [
       "'0b110111'"
      ]
     },
     "execution_count": 74,
     "metadata": {},
     "output_type": "execute_result"
    }
   ],
   "source": [
    "bin (55)"
   ]
  },
  {
   "cell_type": "code",
   "execution_count": 75,
   "id": "e0d3047e-ed96-4468-ad9f-d2422dc23279",
   "metadata": {},
   "outputs": [
    {
     "data": {
      "text/plain": [
       "29"
      ]
     },
     "execution_count": 75,
     "metadata": {},
     "output_type": "execute_result"
    }
   ],
   "source": [
    " 25 | 28"
   ]
  },
  {
   "cell_type": "code",
   "execution_count": 76,
   "id": "e0563aa7-2110-4389-bf1a-8b8b4d8c43d6",
   "metadata": {},
   "outputs": [
    {
     "data": {
      "text/plain": [
       "'0b11001'"
      ]
     },
     "execution_count": 76,
     "metadata": {},
     "output_type": "execute_result"
    }
   ],
   "source": [
    "bin (25)"
   ]
  },
  {
   "cell_type": "code",
   "execution_count": 77,
   "id": "1012dc38-1caa-4f58-8bb9-4d87e01db8fc",
   "metadata": {},
   "outputs": [
    {
     "data": {
      "text/plain": [
       "'0b11100'"
      ]
     },
     "execution_count": 77,
     "metadata": {},
     "output_type": "execute_result"
    }
   ],
   "source": [
    "bin(28)"
   ]
  },
  {
   "cell_type": "code",
   "execution_count": 78,
   "id": "12555df4-45ef-4182-8b31-d2c3baf27954",
   "metadata": {},
   "outputs": [
    {
     "data": {
      "text/plain": [
       "'0b11101'"
      ]
     },
     "execution_count": 78,
     "metadata": {},
     "output_type": "execute_result"
    }
   ],
   "source": [
    "bin (29)"
   ]
  },
  {
   "cell_type": "code",
   "execution_count": 79,
   "id": "f0a45cb5-bef3-4039-af75-136129521178",
   "metadata": {},
   "outputs": [
    {
     "data": {
      "text/plain": [
       "-35"
      ]
     },
     "execution_count": 79,
     "metadata": {},
     "output_type": "execute_result"
    }
   ],
   "source": [
    "~34"
   ]
  },
  {
   "cell_type": "code",
   "execution_count": 80,
   "id": "6b965aab-183f-4f8f-bf73-4013680a269c",
   "metadata": {},
   "outputs": [
    {
     "data": {
      "text/plain": [
       "'0b100010'"
      ]
     },
     "execution_count": 80,
     "metadata": {},
     "output_type": "execute_result"
    }
   ],
   "source": [
    "bin(34)"
   ]
  },
  {
   "cell_type": "code",
   "execution_count": 81,
   "id": "bb16567a-b882-4b28-a686-0b7e53afc26d",
   "metadata": {},
   "outputs": [
    {
     "data": {
      "text/plain": [
       "'-0b100011'"
      ]
     },
     "execution_count": 81,
     "metadata": {},
     "output_type": "execute_result"
    }
   ],
   "source": [
    "bin(-35)"
   ]
  },
  {
   "cell_type": "code",
   "execution_count": 82,
   "id": "f9a20eae-c56f-4b8c-89af-f0ab921f228f",
   "metadata": {},
   "outputs": [
    {
     "data": {
      "text/plain": [
       "7"
      ]
     },
     "execution_count": 82,
     "metadata": {},
     "output_type": "execute_result"
    }
   ],
   "source": [
    "30 >> 2"
   ]
  },
  {
   "cell_type": "code",
   "execution_count": 84,
   "id": "3763be64-8941-4de9-8efa-249a090f10b3",
   "metadata": {},
   "outputs": [
    {
     "data": {
      "text/plain": [
       "'0b11110'"
      ]
     },
     "execution_count": 84,
     "metadata": {},
     "output_type": "execute_result"
    }
   ],
   "source": [
    "bin(30)"
   ]
  },
  {
   "cell_type": "code",
   "execution_count": 85,
   "id": "580dd645-cf27-47f0-97e9-700a4a11638d",
   "metadata": {},
   "outputs": [
    {
     "data": {
      "text/plain": [
       "'0b111'"
      ]
     },
     "execution_count": 85,
     "metadata": {},
     "output_type": "execute_result"
    }
   ],
   "source": [
    "bin (7)"
   ]
  },
  {
   "cell_type": "code",
   "execution_count": 83,
   "id": "28f2b365-ec24-48e7-a6c4-ff7708a92079",
   "metadata": {},
   "outputs": [
    {
     "data": {
      "text/plain": [
       "3"
      ]
     },
     "execution_count": 83,
     "metadata": {},
     "output_type": "execute_result"
    }
   ],
   "source": [
    "24 >> 3 "
   ]
  },
  {
   "cell_type": "code",
   "execution_count": 86,
   "id": "2d6335ca-bb3b-4673-8316-949d5ebd5b31",
   "metadata": {},
   "outputs": [
    {
     "data": {
      "text/plain": [
       "'0b11000'"
      ]
     },
     "execution_count": 86,
     "metadata": {},
     "output_type": "execute_result"
    }
   ],
   "source": [
    "bin(24)"
   ]
  },
  {
   "cell_type": "code",
   "execution_count": 87,
   "id": "e76f8408-781f-4277-8bd4-112ecce2517f",
   "metadata": {},
   "outputs": [
    {
     "data": {
      "text/plain": [
       "'0b11'"
      ]
     },
     "execution_count": 87,
     "metadata": {},
     "output_type": "execute_result"
    }
   ],
   "source": [
    "bin (3)"
   ]
  },
  {
   "cell_type": "code",
   "execution_count": 88,
   "id": "da44613a-686c-446c-87f4-5e9c136f6119",
   "metadata": {},
   "outputs": [
    {
     "data": {
      "text/plain": [
       "280"
      ]
     },
     "execution_count": 88,
     "metadata": {},
     "output_type": "execute_result"
    }
   ],
   "source": [
    "35 << 3"
   ]
  },
  {
   "cell_type": "code",
   "execution_count": 89,
   "id": "e2c0ab08-ed45-47ed-9204-9e5f70a609e2",
   "metadata": {},
   "outputs": [
    {
     "data": {
      "text/plain": [
       "'0b100011'"
      ]
     },
     "execution_count": 89,
     "metadata": {},
     "output_type": "execute_result"
    }
   ],
   "source": [
    "bin( 35)"
   ]
  },
  {
   "cell_type": "code",
   "execution_count": 91,
   "id": "c9bfc816-1af1-4747-b8f1-e6574547453d",
   "metadata": {},
   "outputs": [
    {
     "data": {
      "text/plain": [
       "'0b100011000'"
      ]
     },
     "execution_count": 91,
     "metadata": {},
     "output_type": "execute_result"
    }
   ],
   "source": [
    "bin (280)"
   ]
  },
  {
   "cell_type": "code",
   "execution_count": 92,
   "id": "0c789651-c40a-47eb-8bef-0b7f85115a38",
   "metadata": {},
   "outputs": [],
   "source": [
    "a = 10"
   ]
  },
  {
   "cell_type": "code",
   "execution_count": 93,
   "id": "cfe22451-5adc-4f41-bf54-b9d37e34b970",
   "metadata": {},
   "outputs": [
    {
     "data": {
      "text/plain": [
       "10"
      ]
     },
     "execution_count": 93,
     "metadata": {},
     "output_type": "execute_result"
    }
   ],
   "source": [
    "a"
   ]
  },
  {
   "cell_type": "code",
   "execution_count": 94,
   "id": "63c9c18b-8ba2-4838-95ba-5be48c865b4b",
   "metadata": {},
   "outputs": [
    {
     "data": {
      "text/plain": [
       "13"
      ]
     },
     "execution_count": 94,
     "metadata": {},
     "output_type": "execute_result"
    }
   ],
   "source": [
    "a + 3"
   ]
  },
  {
   "cell_type": "code",
   "execution_count": 95,
   "id": "208be998-bb89-42c1-a5da-6deb022e57f5",
   "metadata": {},
   "outputs": [
    {
     "data": {
      "text/plain": [
       "800"
      ]
     },
     "execution_count": 95,
     "metadata": {},
     "output_type": "execute_result"
    }
   ],
   "source": [
    "25 << 5"
   ]
  },
  {
   "cell_type": "code",
   "execution_count": 96,
   "id": "baa6e0fd-2414-486a-98b7-ef3f981d4fa5",
   "metadata": {},
   "outputs": [
    {
     "data": {
      "text/plain": [
       "'0b11001'"
      ]
     },
     "execution_count": 96,
     "metadata": {},
     "output_type": "execute_result"
    }
   ],
   "source": [
    "bin(25)"
   ]
  },
  {
   "cell_type": "code",
   "execution_count": 97,
   "id": "1c44fabf-1f49-4eae-9e21-b74ce83b6d17",
   "metadata": {},
   "outputs": [
    {
     "data": {
      "text/plain": [
       "'0b1100100000'"
      ]
     },
     "execution_count": 97,
     "metadata": {},
     "output_type": "execute_result"
    }
   ],
   "source": [
    "bin (800)"
   ]
  },
  {
   "cell_type": "code",
   "execution_count": 98,
   "id": "a7ce7d76-51f4-4fbe-b56f-a41ecd61bf76",
   "metadata": {},
   "outputs": [
    {
     "data": {
      "text/plain": [
       "2"
      ]
     },
     "execution_count": 98,
     "metadata": {},
     "output_type": "execute_result"
    }
   ],
   "source": [
    "65 >> 5"
   ]
  },
  {
   "cell_type": "code",
   "execution_count": 99,
   "id": "a85d67ef-5b62-4282-b5bc-ad777e7801bd",
   "metadata": {},
   "outputs": [
    {
     "data": {
      "text/plain": [
       "'0b1000001'"
      ]
     },
     "execution_count": 99,
     "metadata": {},
     "output_type": "execute_result"
    }
   ],
   "source": [
    "bin (65)"
   ]
  },
  {
   "cell_type": "code",
   "execution_count": 100,
   "id": "a70e4df9-5379-4064-b4dc-536cfac94393",
   "metadata": {},
   "outputs": [
    {
     "data": {
      "text/plain": [
       "'0b10'"
      ]
     },
     "execution_count": 100,
     "metadata": {},
     "output_type": "execute_result"
    }
   ],
   "source": [
    "bin (2)"
   ]
  },
  {
   "cell_type": "code",
   "execution_count": 102,
   "id": "596a9a14-be8d-4a13-97b2-f59354605dfc",
   "metadata": {},
   "outputs": [],
   "source": [
    "a += 2"
   ]
  },
  {
   "cell_type": "code",
   "execution_count": 103,
   "id": "0a629e7f-a814-41ac-a8ca-4227605926a8",
   "metadata": {},
   "outputs": [
    {
     "data": {
      "text/plain": [
       "12"
      ]
     },
     "execution_count": 103,
     "metadata": {},
     "output_type": "execute_result"
    }
   ],
   "source": [
    "a"
   ]
  },
  {
   "cell_type": "code",
   "execution_count": 104,
   "id": "a8e37d27-9664-4656-be0c-02fcc235f35e",
   "metadata": {},
   "outputs": [],
   "source": [
    "a= a-1"
   ]
  },
  {
   "cell_type": "code",
   "execution_count": 105,
   "id": "2064ce6e-a87e-4553-8bc2-294802e6ae02",
   "metadata": {},
   "outputs": [
    {
     "data": {
      "text/plain": [
       "11"
      ]
     },
     "execution_count": 105,
     "metadata": {},
     "output_type": "execute_result"
    }
   ],
   "source": [
    "a"
   ]
  },
  {
   "cell_type": "code",
   "execution_count": 106,
   "id": "02d9a763-cd7a-489f-bfea-b5c77542e6a5",
   "metadata": {},
   "outputs": [],
   "source": [
    "a -=1"
   ]
  },
  {
   "cell_type": "code",
   "execution_count": 107,
   "id": "bc2add12-00e4-48f9-9b6f-d9170bc0d299",
   "metadata": {},
   "outputs": [
    {
     "data": {
      "text/plain": [
       "10"
      ]
     },
     "execution_count": 107,
     "metadata": {},
     "output_type": "execute_result"
    }
   ],
   "source": [
    "a"
   ]
  },
  {
   "cell_type": "markdown",
   "id": "166dc93e-43cd-4a3c-b43e-4f0eb69c81db",
   "metadata": {},
   "source": [
    "# Condition"
   ]
  },
  {
   "cell_type": "code",
   "execution_count": 109,
   "id": "e8dd7fa6-3139-41bf-ab3e-6588bdbcd8e8",
   "metadata": {},
   "outputs": [],
   "source": [
    "a = 10\n",
    "if a > 10 :\n",
    "    pass"
   ]
  },
  {
   "cell_type": "code",
   "execution_count": 110,
   "id": "27e05360-b5da-422c-9283-1819d3948565",
   "metadata": {},
   "outputs": [
    {
     "data": {
      "text/plain": [
       "False"
      ]
     },
     "execution_count": 110,
     "metadata": {},
     "output_type": "execute_result"
    }
   ],
   "source": [
    "a > 10"
   ]
  },
  {
   "cell_type": "code",
   "execution_count": 111,
   "id": "fd5f7b16-d3d5-42fc-b3e2-83b597d74a80",
   "metadata": {},
   "outputs": [],
   "source": [
    "a = 10\n",
    "if a > 10 :\n",
    "    print(\"This will execurte once a greater than 10\")"
   ]
  },
  {
   "cell_type": "code",
   "execution_count": 112,
   "id": "95555c87-b38c-46bd-ba77-ec0bf3b6bbdd",
   "metadata": {},
   "outputs": [
    {
     "data": {
      "text/plain": [
       "False"
      ]
     },
     "execution_count": 112,
     "metadata": {},
     "output_type": "execute_result"
    }
   ],
   "source": [
    "a> 10"
   ]
  },
  {
   "cell_type": "code",
   "execution_count": 113,
   "id": "70fe8a87-85ca-4ab1-adb1-7ee85ec376b0",
   "metadata": {},
   "outputs": [
    {
     "data": {
      "text/plain": [
       "True"
      ]
     },
     "execution_count": 113,
     "metadata": {},
     "output_type": "execute_result"
    }
   ],
   "source": [
    "a> 8"
   ]
  },
  {
   "cell_type": "code",
   "execution_count": 114,
   "id": "3efc9ea1-63c7-4169-9b2f-c0a629665582",
   "metadata": {},
   "outputs": [
    {
     "name": "stdout",
     "output_type": "stream",
     "text": [
      "This will execurte once if will not be able to perform\n"
     ]
    }
   ],
   "source": [
    "a = 10\n",
    "if a > 10 :\n",
    "    print(\"This will execurte once a greater than 10\")\n",
    "else :\n",
    "    print(\"This will execurte once if will not be able to perform\")"
   ]
  },
  {
   "cell_type": "code",
   "execution_count": 115,
   "id": "a6cf5d17-e8ce-4ab2-a1f6-12060204bc5a",
   "metadata": {},
   "outputs": [
    {
     "name": "stdout",
     "output_type": "stream",
     "text": [
      "This is trying to check a condition for a where a could be 10 or lesser\n"
     ]
    }
   ],
   "source": [
    "a = 10\n",
    "if a > 10 :\n",
    "    print(\"This will execurte once a greater than 10\")\n",
    "elif a<=10 :\n",
    "    print(\"This is trying to check a condition for a where a could be 10 or lesser\")\n",
    "else :\n",
    "    print(\"This will execurte once if will not be able to perform\")"
   ]
  },
  {
   "cell_type": "code",
   "execution_count": 116,
   "id": "c5c0f294-7ed6-408a-8b84-413d23513119",
   "metadata": {},
   "outputs": [
    {
     "name": "stdin",
     "output_type": "stream",
     "text": [
      "Enter a value for a 8\n"
     ]
    },
    {
     "name": "stdout",
     "output_type": "stream",
     "text": [
      "This is trying to check a condition for a where a could be 10 or lesser\n"
     ]
    }
   ],
   "source": [
    "a = int(input(\"Enter a value for a\"))\n",
    "if a > 10 :\n",
    "    print(\"This will execurte once a greater than 10\")\n",
    "elif a<=10 :\n",
    "    print(\"This is trying to check a condition for a where a could be 10 or lesser\")\n",
    "else :\n",
    "    print(\"This will execurte once if will not be able to perform\")"
   ]
  },
  {
   "cell_type": "code",
   "execution_count": 120,
   "id": "4dc02906-6bc9-497c-938b-e9d7b4f6514d",
   "metadata": {},
   "outputs": [
    {
     "name": "stdout",
     "output_type": "stream",
     "text": [
      "1\n",
      "2\n",
      "3\n",
      "4\n",
      "5\n",
      "6\n",
      "7\n",
      "8\n",
      "9\n",
      "This will be executed once while will complete it sucessfully\n"
     ]
    }
   ],
   "source": [
    "n = 10\n",
    "i = 1\n",
    "\n",
    "while i< n :\n",
    "    print(i)\n",
    "    i = i+ 1\n",
    "    if i == 3 :\n",
    "        continue\n",
    "else :\n",
    "    print(\"This will be executed once while will complete it sucessfully\")"
   ]
  },
  {
   "cell_type": "code",
   "execution_count": 121,
   "id": "80f33d0b-a76c-457c-8dbf-86aaca8a8fe2",
   "metadata": {},
   "outputs": [],
   "source": [
    "##  27 min CONDITOON"
   ]
  },
  {
   "cell_type": "markdown",
   "id": "c5aeaf85-05f2-4e1a-8fc9-8b0a6ff101e3",
   "metadata": {},
   "source": [
    "# Operators and Operands"
   ]
  },
  {
   "cell_type": "markdown",
   "id": "96160767-783b-469a-b53a-a8ab8459c7c8",
   "metadata": {},
   "source": [
    "## Python divivide the operator in the following groups:-\n",
    "### 1. Arithmetic Operators.\n",
    "### 2. Assignment Operators.\n",
    "### 3. Comparison Operators.\n",
    "### 4. Logical Operators.\n",
    "### 5. Identity Operators.\n",
    "### 6. Membership Operators.\n",
    "### 7. Bitwise Operators."
   ]
  },
  {
   "cell_type": "code",
   "execution_count": null,
   "id": "504acf54-9c3e-4270-ae59-bd5476c89e7c",
   "metadata": {},
   "outputs": [],
   "source": []
  },
  {
   "cell_type": "markdown",
   "id": "db79807b-7f40-44b1-af80-5cb626b0c30e",
   "metadata": {},
   "source": [
    "## Operators\n",
    "### Arithmetic Operators\n",
    "#### \" +, - , * , / , // ,% , ** \"\n",
    "### Comparision Operators (Output = Boolean)\n",
    "#### \" > , < , >= , <= , == , != \"\n",
    "### Logical Opperators (Output = Boolean)\n",
    "#### \" and , or , not \"\n",
    "### Assignment Operators \n",
    "#### \" = , += , -= , *= \"\n",
    "### Membership Operators (Output = Boolean)\n",
    "#### \" In , Not in \"\n",
    "### Identity Operators (Output = Boolean)\n",
    "#### \" Is , Is Not \""
   ]
  },
  {
   "cell_type": "markdown",
   "id": "24a5c94b-305f-4542-bfae-b0ec07742bd3",
   "metadata": {},
   "source": [
    "#### 1.Arithmetic Operators."
   ]
  },
  {
   "cell_type": "raw",
   "id": "1aad9ae3-a672-4684-8aff-49ce3d0bb37e",
   "metadata": {},
   "source": [
    "## (+) Operator"
   ]
  },
  {
   "cell_type": "code",
   "execution_count": 2,
   "id": "36e3b901-3483-4934-829e-a90a18b2c39a",
   "metadata": {},
   "outputs": [
    {
     "name": "stdout",
     "output_type": "stream",
     "text": [
      "79\n"
     ]
    }
   ],
   "source": [
    "print(34+45) "
   ]
  },
  {
   "cell_type": "raw",
   "id": "f35db1fc-ec62-411f-9705-cc1d19f471cf",
   "metadata": {},
   "source": [
    "## (-) Operator"
   ]
  },
  {
   "cell_type": "code",
   "execution_count": 4,
   "id": "b884d212-8189-4815-b912-cb968b0b0d64",
   "metadata": {},
   "outputs": [
    {
     "name": "stdout",
     "output_type": "stream",
     "text": [
      "50\n"
     ]
    }
   ],
   "source": [
    "print(75-25)"
   ]
  },
  {
   "cell_type": "raw",
   "id": "cbc38fdd-be6a-4b5e-8d33-00fa08583d01",
   "metadata": {},
   "source": [
    "## (*) Multiplication"
   ]
  },
  {
   "cell_type": "code",
   "execution_count": 5,
   "id": "42a35d0c-2c70-4823-9153-cb2c94e637b2",
   "metadata": {},
   "outputs": [
    {
     "name": "stdout",
     "output_type": "stream",
     "text": [
      "64\n"
     ]
    }
   ],
   "source": [
    "print(8*8)"
   ]
  },
  {
   "cell_type": "raw",
   "id": "8a084205-9b4c-4a36-8f31-add458eec850",
   "metadata": {},
   "source": [
    "## (/) Divission"
   ]
  },
  {
   "cell_type": "code",
   "execution_count": 6,
   "id": "6e503ccf-64b5-45d2-83a1-812fc50f37d1",
   "metadata": {},
   "outputs": [
    {
     "name": "stdout",
     "output_type": "stream",
     "text": [
      "30.0\n"
     ]
    }
   ],
   "source": [
    "print(90/3)"
   ]
  },
  {
   "cell_type": "raw",
   "id": "7ac86f35-e04d-4901-99c4-09b1c64cd7d1",
   "metadata": {},
   "source": [
    "## (//) floor divission is to used to find number without decimal"
   ]
  },
  {
   "cell_type": "code",
   "execution_count": 7,
   "id": "6a4b9598-bffc-467e-beda-ab438e126f4a",
   "metadata": {},
   "outputs": [
    {
     "name": "stdout",
     "output_type": "stream",
     "text": [
      "26\n"
     ]
    }
   ],
   "source": [
    "print(80//3)"
   ]
  },
  {
   "cell_type": "raw",
   "id": "50c00a54-a6c3-4ae9-85f4-af679d5a9f39",
   "metadata": {},
   "source": [
    "## (%) modulud/ modus is used to find remainder"
   ]
  },
  {
   "cell_type": "code",
   "execution_count": 8,
   "id": "95c034d4-cbaf-42a3-8c55-e8c9ccfd1a5c",
   "metadata": {},
   "outputs": [
    {
     "name": "stdout",
     "output_type": "stream",
     "text": [
      "3\n"
     ]
    }
   ],
   "source": [
    "print(11%4)"
   ]
  },
  {
   "cell_type": "code",
   "execution_count": 9,
   "id": "d9389771-aec0-49b1-bc42-8c3de58fd654",
   "metadata": {},
   "outputs": [
    {
     "name": "stdout",
     "output_type": "stream",
     "text": [
      "1\n"
     ]
    }
   ],
   "source": [
    "print(5%4)"
   ]
  },
  {
   "cell_type": "raw",
   "id": "f651fcc3-02d4-4f2d-ba08-9291669cacc8",
   "metadata": {},
   "source": [
    "## (**) Exponential"
   ]
  },
  {
   "cell_type": "code",
   "execution_count": 10,
   "id": "a2e29f02-3f69-4751-bf44-60dc9868da3a",
   "metadata": {},
   "outputs": [
    {
     "name": "stdout",
     "output_type": "stream",
     "text": [
      "9\n"
     ]
    }
   ],
   "source": [
    "print(3**2)"
   ]
  },
  {
   "cell_type": "code",
   "execution_count": 13,
   "id": "741090b9-0d13-4782-bad6-ca98075ab350",
   "metadata": {},
   "outputs": [
    {
     "name": "stdout",
     "output_type": "stream",
     "text": [
      "27\n"
     ]
    }
   ],
   "source": [
    "print(3**3)"
   ]
  },
  {
   "cell_type": "markdown",
   "id": "bb163b09-043a-4600-8d6d-0aa824b95516",
   "metadata": {},
   "source": [
    "### 2. Comparison Operators"
   ]
  },
  {
   "cell_type": "raw",
   "id": "f07b16f7-cd45-439f-a16d-32bea189d600",
   "metadata": {},
   "source": [
    "## (>) Greater than"
   ]
  },
  {
   "cell_type": "code",
   "execution_count": 16,
   "id": "f78e4cbe-67d3-4067-9e5d-abcd3adbfcd7",
   "metadata": {},
   "outputs": [
    {
     "name": "stdout",
     "output_type": "stream",
     "text": [
      "False\n"
     ]
    }
   ],
   "source": [
    "a = 44\n",
    "b = 45.0\n",
    "print(a>b)"
   ]
  },
  {
   "cell_type": "raw",
   "id": "76bc6a8f-5c27-4ca5-b8c6-1a26bc0c946f",
   "metadata": {},
   "source": [
    "## (<) Smaller than"
   ]
  },
  {
   "cell_type": "code",
   "execution_count": 17,
   "id": "82409b92-edee-4f22-afa1-39786fd2ce7a",
   "metadata": {},
   "outputs": [
    {
     "name": "stdout",
     "output_type": "stream",
     "text": [
      "True\n"
     ]
    }
   ],
   "source": [
    "a = 44\n",
    "b = 45\n",
    "print(a<b)"
   ]
  },
  {
   "cell_type": "raw",
   "id": "8dd476a6-c854-44ce-a8e8-9416fb37ea99",
   "metadata": {},
   "source": [
    "## (>=) Greater than equal to"
   ]
  },
  {
   "cell_type": "code",
   "execution_count": 18,
   "id": "486e871d-027a-44b8-9863-b2afef2c0fe8",
   "metadata": {},
   "outputs": [
    {
     "name": "stdout",
     "output_type": "stream",
     "text": [
      "True\n"
     ]
    }
   ],
   "source": [
    "a = 44\n",
    "print(a>=40)"
   ]
  },
  {
   "cell_type": "raw",
   "id": "2eddfb89-f323-4ad0-aa0d-14b1f01570ba",
   "metadata": {},
   "source": [
    "## (<=) Smaller than equal to"
   ]
  },
  {
   "cell_type": "code",
   "execution_count": 20,
   "id": "518d5071-b408-4eb1-8a5b-2333be2bea96",
   "metadata": {},
   "outputs": [
    {
     "name": "stdout",
     "output_type": "stream",
     "text": [
      "False\n"
     ]
    }
   ],
   "source": [
    "a = 45\n",
    "print(a<=40)"
   ]
  },
  {
   "cell_type": "raw",
   "id": "7c8f99a5-86d7-4ff2-b8ea-6a7fe639d836",
   "metadata": {},
   "source": [
    "## (==) Equal to (Comaparison)"
   ]
  },
  {
   "cell_type": "code",
   "execution_count": 15,
   "id": "c5b10713-acef-4bc4-a6b6-aa410e3db70e",
   "metadata": {},
   "outputs": [
    {
     "name": "stdout",
     "output_type": "stream",
     "text": [
      "True\n"
     ]
    }
   ],
   "source": [
    "a = 45\n",
    "b = 45.0\n",
    "print(a==b)"
   ]
  },
  {
   "cell_type": "code",
   "execution_count": 22,
   "id": "8c561e4a-1552-4b8b-ac92-303de1fc7740",
   "metadata": {},
   "outputs": [
    {
     "name": "stdout",
     "output_type": "stream",
     "text": [
      "True\n"
     ]
    }
   ],
   "source": [
    "a = 'anuj'\n",
    "b = 'anuj'\n",
    "print(a==b)"
   ]
  },
  {
   "cell_type": "raw",
   "id": "5aebf3c3-8145-48c9-89cf-599d28ab5c14",
   "metadata": {},
   "source": [
    "## (!=) Not Equal to"
   ]
  },
  {
   "cell_type": "code",
   "execution_count": 24,
   "id": "29cc46dc-0af8-4863-b31e-b8cbd9b43eaf",
   "metadata": {},
   "outputs": [
    {
     "name": "stdout",
     "output_type": "stream",
     "text": [
      "False\n"
     ]
    }
   ],
   "source": [
    "a = 'anuj'\n",
    "b = 'anuj'\n",
    "print(a!=b)"
   ]
  },
  {
   "cell_type": "markdown",
   "id": "53d3d47f-86f5-4b56-aeaa-3b4e2eab9b72",
   "metadata": {},
   "source": [
    "### 3. Logical Operators Result is display in Boolean"
   ]
  },
  {
   "cell_type": "markdown",
   "id": "48380173-ca4e-488e-b2cb-26ebbed8bea4",
   "metadata": {},
   "source": [
    "#### True indicates (1) and False indicates (0)"
   ]
  },
  {
   "cell_type": "raw",
   "id": "92fab000-ea3e-4513-938f-09e159d1078b",
   "metadata": {},
   "source": [
    "## (and) :- All Condition have to be true. It will display True only if all the given condition is True"
   ]
  },
  {
   "cell_type": "code",
   "execution_count": 4,
   "id": "136635e2-1eee-4b7f-a7de-9d861e714b43",
   "metadata": {},
   "outputs": [
    {
     "name": "stdout",
     "output_type": "stream",
     "text": [
      "True\n"
     ]
    }
   ],
   "source": [
    "a= 22\n",
    "b= 10\n",
    "print(a>b and b<a and a>=b)"
   ]
  },
  {
   "cell_type": "raw",
   "id": "b82ccee3-e039-4297-a4cb-894643d3bd72",
   "metadata": {},
   "source": [
    "## (or) :- If any Condition is True. It will display True"
   ]
  },
  {
   "cell_type": "code",
   "execution_count": 5,
   "id": "be38778a-65f7-4a75-b4b5-4363466273dd",
   "metadata": {},
   "outputs": [
    {
     "name": "stdout",
     "output_type": "stream",
     "text": [
      "True\n"
     ]
    }
   ],
   "source": [
    "a= 22\n",
    "b= 10\n",
    "print(a>b or b == a)"
   ]
  },
  {
   "cell_type": "raw",
   "id": "38c05f85-8d46-47e1-8dcf-2eb01f5d7041",
   "metadata": {},
   "source": [
    "## (not) :- "
   ]
  },
  {
   "cell_type": "code",
   "execution_count": 6,
   "id": "f4e2f1e4-c3a2-40bb-80f8-499ec57b5bde",
   "metadata": {},
   "outputs": [
    {
     "name": "stdout",
     "output_type": "stream",
     "text": [
      "False\n"
     ]
    }
   ],
   "source": [
    "a= 22\n",
    "b= 10\n",
    "print(not(a>b or b == a))"
   ]
  },
  {
   "cell_type": "markdown",
   "id": "2ee35574-538d-4bf0-8176-63090f86e162",
   "metadata": {},
   "source": [
    "### 4. Assignment Operators"
   ]
  },
  {
   "cell_type": "raw",
   "id": "a38418e5-19cb-4213-856f-5710fc6297cf",
   "metadata": {},
   "source": [
    "## (=)"
   ]
  },
  {
   "cell_type": "code",
   "execution_count": 2,
   "id": "200206ae-0bc9-4c45-b5b4-16cc4e7ee17d",
   "metadata": {},
   "outputs": [
    {
     "name": "stdout",
     "output_type": "stream",
     "text": [
      "75\n"
     ]
    }
   ],
   "source": [
    "a = 75\n",
    "print(a)"
   ]
  },
  {
   "cell_type": "raw",
   "id": "3ae20f66-02d4-4bda-8afe-7352995978c6",
   "metadata": {},
   "source": [
    "## (+=)"
   ]
  },
  {
   "cell_type": "code",
   "execution_count": 1,
   "id": "25e5a1db-61fa-4b62-9f6a-7a6c1f7a8d11",
   "metadata": {},
   "outputs": [
    {
     "name": "stdout",
     "output_type": "stream",
     "text": [
      "7\n"
     ]
    }
   ],
   "source": [
    "Score = 3\n",
    "Score +=4\n",
    "print(Score)"
   ]
  },
  {
   "cell_type": "code",
   "execution_count": 3,
   "id": "78f62fd1-cf06-431a-8a6e-0036e10c9af6",
   "metadata": {},
   "outputs": [
    {
     "name": "stdout",
     "output_type": "stream",
     "text": [
      "7\n"
     ]
    }
   ],
   "source": [
    "Score = 3\n",
    "Score = Score +4\n",
    "print(Score)"
   ]
  },
  {
   "cell_type": "raw",
   "id": "64a1d953-c7d0-407b-a870-179afe4fbf9e",
   "metadata": {},
   "source": [
    "## (-=)"
   ]
  },
  {
   "cell_type": "code",
   "execution_count": 4,
   "id": "a61fbcd6-d2f6-4ef3-891b-0e58e657e534",
   "metadata": {},
   "outputs": [
    {
     "name": "stdout",
     "output_type": "stream",
     "text": [
      "1\n"
     ]
    }
   ],
   "source": [
    "Score = 3\n",
    "Score -=2\n",
    "print(Score)"
   ]
  },
  {
   "cell_type": "raw",
   "id": "cb9dc22f-ef76-41bb-b19e-7bdf924734ae",
   "metadata": {},
   "source": [
    "## (*=)"
   ]
  },
  {
   "cell_type": "code",
   "execution_count": 6,
   "id": "1091a941-bca6-48b5-b48c-3c3ddf35036d",
   "metadata": {},
   "outputs": [
    {
     "name": "stdout",
     "output_type": "stream",
     "text": [
      "6\n"
     ]
    }
   ],
   "source": [
    "life = 3\n",
    "life *=2\n",
    "print(life)"
   ]
  },
  {
   "cell_type": "markdown",
   "id": "840751aa-6cc8-40a8-95b1-e70eefccdb70",
   "metadata": {},
   "source": [
    "### 5. Membership Operators"
   ]
  },
  {
   "cell_type": "raw",
   "id": "23f78cfa-41dd-42eb-a8ea-c747e78e5b67",
   "metadata": {},
   "source": [
    "## (In)"
   ]
  },
  {
   "cell_type": "code",
   "execution_count": 8,
   "id": "5b7f4227-6997-4cf6-8116-d4e81b0076d4",
   "metadata": {},
   "outputs": [
    {
     "name": "stdout",
     "output_type": "stream",
     "text": [
      "True\n"
     ]
    }
   ],
   "source": [
    "a = \"hello\"\n",
    "print('e' in a)"
   ]
  },
  {
   "cell_type": "raw",
   "id": "9c9acd52-6c71-485b-8896-487688e7cd37",
   "metadata": {},
   "source": [
    "## (Not In)"
   ]
  },
  {
   "cell_type": "code",
   "execution_count": 9,
   "id": "cfda7826-599c-468d-8060-7a696a110555",
   "metadata": {},
   "outputs": [
    {
     "name": "stdout",
     "output_type": "stream",
     "text": [
      "False\n"
     ]
    }
   ],
   "source": [
    "a = \"hello\"\n",
    "print('e' not in a)"
   ]
  },
  {
   "cell_type": "code",
   "execution_count": 10,
   "id": "6b8b7d13-8f25-44b1-99f6-888eb5e14790",
   "metadata": {},
   "outputs": [
    {
     "name": "stdout",
     "output_type": "stream",
     "text": [
      "True\n"
     ]
    }
   ],
   "source": [
    "avengers=[\"Vision\",\"Ironman\",\"Hulk\",\"Thor\"]\n",
    "print(\"Hulk\" in avengers)"
   ]
  },
  {
   "cell_type": "markdown",
   "id": "147b479c-4aed-41e7-a957-dd5a770cfe3c",
   "metadata": {},
   "source": [
    "### 6. Identity Operators"
   ]
  },
  {
   "cell_type": "raw",
   "id": "1941a06c-9788-48a4-b45d-f0eb6d0cb734",
   "metadata": {},
   "source": [
    "## (is)"
   ]
  },
  {
   "cell_type": "code",
   "execution_count": 12,
   "id": "a2a802ff-ac90-490d-b51d-e029bbeeb1cc",
   "metadata": {},
   "outputs": [
    {
     "name": "stdout",
     "output_type": "stream",
     "text": [
      "True\n"
     ]
    }
   ],
   "source": [
    "a = 34\n",
    "b= 34\n",
    "print (a is b)"
   ]
  },
  {
   "cell_type": "markdown",
   "id": "ecd030b3-a3d0-48a6-ac98-cfe7df1c7be0",
   "metadata": {},
   "source": [
    "#### The difference betwwen (==) and (is)"
   ]
  },
  {
   "cell_type": "raw",
   "id": "1adb1366-8bf8-4102-b6a2-89a493c9921f",
   "metadata": {},
   "source": [
    "Is == we can check only the value. But in (is) we can check the value as well as the data type"
   ]
  },
  {
   "cell_type": "code",
   "execution_count": 17,
   "id": "7a637df3-c729-4957-b1dc-b0d11f62d48f",
   "metadata": {},
   "outputs": [
    {
     "name": "stdout",
     "output_type": "stream",
     "text": [
      "False\n"
     ]
    }
   ],
   "source": [
    "a = 34\n",
    "b= 34.0\n",
    "print (a is b)"
   ]
  },
  {
   "cell_type": "code",
   "execution_count": 18,
   "id": "33891cbe-02fa-4ab8-8516-ff31519a3d68",
   "metadata": {},
   "outputs": [
    {
     "name": "stdout",
     "output_type": "stream",
     "text": [
      "True\n"
     ]
    }
   ],
   "source": [
    "a = 34\n",
    "b= 34.0\n",
    "print (a == b)"
   ]
  },
  {
   "cell_type": "raw",
   "id": "abf50fcb-d528-4887-b7ff-4712a8b0af5d",
   "metadata": {},
   "source": [
    "## (is not)"
   ]
  },
  {
   "cell_type": "code",
   "execution_count": 15,
   "id": "e8fee2e9-995e-4272-9bea-abc21c409b00",
   "metadata": {},
   "outputs": [
    {
     "name": "stdout",
     "output_type": "stream",
     "text": [
      "False\n"
     ]
    }
   ],
   "source": [
    "a = 34\n",
    "b= 34\n",
    "print (a is not b)"
   ]
  },
  {
   "cell_type": "markdown",
   "id": "6feddeaa-7d82-4ec5-9c96-e417af8e417b",
   "metadata": {},
   "source": [
    "# Conditional Statement"
   ]
  },
  {
   "cell_type": "markdown",
   "id": "9573356f-be7b-4ef1-9501-f83b78f7361a",
   "metadata": {},
   "source": [
    "### Conditional Statement allows computer to execute a certain condition only if it is true."
   ]
  },
  {
   "cell_type": "markdown",
   "id": "298f4829-2f2d-4b1f-af86-cd426071ce3d",
   "metadata": {},
   "source": [
    "### Types of conditional Statement\n",
    "##### 1. If the Statement\n",
    "##### 2. If-else Statement\n",
    "##### 3. If-elif-else Statement\n",
    "##### 4. Nested if Statement \n",
    "##### 5. Short Hand if Statement\n",
    "##### 6. Short Hand if- else Statement"
   ]
  },
  {
   "cell_type": "markdown",
   "id": "b4e5fba2-fbd8-4f3a-afcf-f9cb95522db1",
   "metadata": {},
   "source": [
    "### 1. If - Statement"
   ]
  },
  {
   "cell_type": "code",
   "execution_count": 3,
   "id": "887eebb0-ae83-41b8-85f5-1871bbca7d89",
   "metadata": {},
   "outputs": [
    {
     "name": "stdin",
     "output_type": "stream",
     "text": [
      "Enter marks here: 30\n"
     ]
    },
    {
     "name": "stdout",
     "output_type": "stream",
     "text": [
      "Thank you\n"
     ]
    }
   ],
   "source": [
    "marks= int(input(\"Enter marks here:\"))\n",
    "if marks >44:\n",
    "    print(\"You are pass the examination\")\n",
    "print(\"Thank you\")"
   ]
  },
  {
   "cell_type": "markdown",
   "id": "fa869449-d822-41e5-a867-ce0d1fecff18",
   "metadata": {},
   "source": [
    "### 2. If else - Statement"
   ]
  },
  {
   "cell_type": "code",
   "execution_count": 4,
   "id": "dbdcd484-625b-4619-8d5f-591d095995c2",
   "metadata": {},
   "outputs": [
    {
     "name": "stdin",
     "output_type": "stream",
     "text": [
      "Enter marks here: 30\n"
     ]
    },
    {
     "name": "stdout",
     "output_type": "stream",
     "text": [
      "You are fail the examination\n"
     ]
    }
   ],
   "source": [
    "marks= int(input(\"Enter marks here:\"))\n",
    "if marks >44:\n",
    "    print(\"You are pass the examination\")\n",
    "else:\n",
    "    print(\"You are fail the examination\")"
   ]
  },
  {
   "cell_type": "markdown",
   "id": "c072b2b0-6eab-4602-8e73-97c70a2b650b",
   "metadata": {},
   "source": [
    "### 3. If - Elif - Else Statement"
   ]
  },
  {
   "cell_type": "code",
   "execution_count": null,
   "id": "144ca9ea-74e0-4bc4-b89d-80b57f41b393",
   "metadata": {},
   "outputs": [
    {
     "name": "stdin",
     "output_type": "stream",
     "text": [
      "Enter marks here: 96\n"
     ]
    },
    {
     "name": "stdout",
     "output_type": "stream",
     "text": [
      "Grade A\n",
      "Excellent work\n"
     ]
    }
   ],
   "source": [
    "marks= int(input(\"Enter marks here:\"))\n",
    "if marks >=30 and marks < 70:\n",
    "    print(\"Grade D\")\n",
    "elif marks >= 70 and marks <80:\n",
    "    print(\"Grade C\")\n",
    "elif marks >=80 and marks <90:\n",
    "    print(\"Grade B\")\n",
    "elif marks >= 90 and marks <100:\n",
    "    print(\"Grade A\")\n",
    "    if marks > 95:\n",
    "        print(\"Excellent work\")\n",
    "else:\n",
    "    print (\"Grade F\")"
   ]
  },
  {
   "cell_type": "markdown",
   "id": "aca2aa46-2285-40ab-af32-82e2b3012af0",
   "metadata": {},
   "source": [
    "### 4. Nested - If Statement"
   ]
  },
  {
   "cell_type": "code",
   "execution_count": 2,
   "id": "c5690abd-55e4-4c52-af7c-8c6ba18200b9",
   "metadata": {},
   "outputs": [
    {
     "name": "stdin",
     "output_type": "stream",
     "text": [
      "enter username anuj\n"
     ]
    },
    {
     "name": "stdout",
     "output_type": "stream",
     "text": [
      "Invalid Username\n"
     ]
    }
   ],
   "source": [
    "username = \"Anuj Sharma\"\n",
    "password = \"Anuj1999\"\n",
    "un = input(\"enter username\")\n",
    "if un == username:\n",
    "    ps= input(\"enter your password\")\n",
    "    if ps == password:\n",
    "        print(\"Login Sucessfull\")\n",
    "    else:\n",
    "        print(\"Invalid Password\")\n",
    "else:\n",
    "    print(\"Invalid Username\")"
   ]
  },
  {
   "cell_type": "code",
   "execution_count": 8,
   "id": "aa059786-d25c-4268-87e1-bf1b356ba1bc",
   "metadata": {},
   "outputs": [
    {
     "name": "stdin",
     "output_type": "stream",
     "text": [
      "Enter marks here: 77\n"
     ]
    }
   ],
   "source": [
    "marks= int(input(\"Enter marks here:\"))\n",
    "if marks >90:\n",
    "           print(\"A Grade\")\n",
    "           if marks > 95:\n",
    "                print(\"Excellent work\")"
   ]
  },
  {
   "cell_type": "markdown",
   "id": "443b5749-5ff4-4a6e-b908-0d5248682bbb",
   "metadata": {},
   "source": [
    "### 5. Short- Hand- if Statement "
   ]
  },
  {
   "cell_type": "code",
   "execution_count": 12,
   "id": "d5b6f2b3-858f-45ec-ab6a-4e0bee50d156",
   "metadata": {},
   "outputs": [
    {
     "name": "stdin",
     "output_type": "stream",
     "text": [
      "Enter Marks here: 45\n"
     ]
    },
    {
     "name": "stdout",
     "output_type": "stream",
     "text": [
      "pass\n"
     ]
    }
   ],
   "source": [
    "marks= int(input(\"Enter Marks here:\"))\n",
    "if marks >40: print(\"pass\")"
   ]
  },
  {
   "cell_type": "markdown",
   "id": "fbb4d190-2933-4dec-8e78-fb5812850a9c",
   "metadata": {},
   "source": [
    "### 6. Short- Hand - If -  else Statement"
   ]
  },
  {
   "cell_type": "code",
   "execution_count": 16,
   "id": "fff4db5d-6fc0-4b2c-ac0c-7ec7065e5eb9",
   "metadata": {},
   "outputs": [
    {
     "name": "stdin",
     "output_type": "stream",
     "text": [
      "enter marks here: 45\n"
     ]
    },
    {
     "name": "stdout",
     "output_type": "stream",
     "text": [
      "Pass\n"
     ]
    }
   ],
   "source": [
    "marks=int(input(\"enter marks here:\"))\n",
    "if marks > 40:\n",
    "    print(\"Pass\")\n",
    "else:\n",
    "    print(\"fail\")"
   ]
  },
  {
   "cell_type": "code",
   "execution_count": 18,
   "id": "79590f44-4647-427c-8e7f-7d00201c8dd0",
   "metadata": {},
   "outputs": [
    {
     "name": "stdin",
     "output_type": "stream",
     "text": [
      "Enter Marks here: 10\n"
     ]
    },
    {
     "name": "stdout",
     "output_type": "stream",
     "text": [
      "Fail\n"
     ]
    }
   ],
   "source": [
    "marks=int(input(\"Enter Marks here:\"))\n",
    "print(\"Pass\") if marks > 40 else print(\"Fail\")"
   ]
  },
  {
   "cell_type": "markdown",
   "id": "936fc373-62d2-487b-b279-6e419a40a89d",
   "metadata": {},
   "source": [
    "# Loops"
   ]
  },
  {
   "cell_type": "markdown",
   "id": "d2fb8bd2-160b-4d31-bb51-080e204da050",
   "metadata": {},
   "source": [
    "### A loop means to repeat something in the exacct same way.\n",
    "#### We cannot play loop in intereger, Boolean, Decimal value. Because we cannot iterate those data types."
   ]
  },
  {
   "cell_type": "markdown",
   "id": "867806a5-6d52-426b-8664-a4f589ae5e89",
   "metadata": {},
   "source": [
    "## Types of loops are: - "
   ]
  },
  {
   "cell_type": "markdown",
   "id": "69f45a42-df65-40f7-a61e-b0c42ea53e39",
   "metadata": {},
   "source": [
    "#### 1. For Loop\n",
    "#### 2. While Loop\n",
    "#### 3. While True\n",
    "#### 4. Nested Loop"
   ]
  },
  {
   "cell_type": "markdown",
   "id": "9b325a49-5893-4307-a088-5358f521a082",
   "metadata": {},
   "source": [
    "### 1. For Loop"
   ]
  },
  {
   "cell_type": "code",
   "execution_count": 1,
   "id": "790865a4-e656-4ceb-9ac2-8397603c640e",
   "metadata": {},
   "outputs": [
    {
     "name": "stdout",
     "output_type": "stream",
     "text": [
      "H\n",
      "e\n",
      "l\n",
      "l\n",
      "o\n"
     ]
    }
   ],
   "source": [
    "a = \"Hello\"\n",
    "for i in a:\n",
    "    print(i)"
   ]
  },
  {
   "cell_type": "code",
   "execution_count": 4,
   "id": "8e71beaa-0548-4107-9e75-96ada5ab79b3",
   "metadata": {},
   "outputs": [
    {
     "name": "stdout",
     "output_type": "stream",
     "text": [
      "1 number song is playing\n",
      "2 number song is playing\n",
      "3 number song is playing\n",
      "4 number song is playing\n",
      "5 number song is playing\n",
      "6 number song is playing\n",
      "7 number song is playing\n",
      "8 number song is playing\n",
      "9 number song is playing\n",
      "10 number song is playing\n"
     ]
    }
   ],
   "source": [
    "for i in range(1,11): #Start,stop+1,step\n",
    "    print(i, \"number song is playing\")"
   ]
  },
  {
   "cell_type": "code",
   "execution_count": 9,
   "id": "c4e42d64-67b3-43d5-b4d0-00f2f191e2fd",
   "metadata": {},
   "outputs": [
    {
     "name": "stdin",
     "output_type": "stream",
     "text": [
      "Enter number: 12\n"
     ]
    },
    {
     "name": "stdout",
     "output_type": "stream",
     "text": [
      "12 X 1 = 12\n",
      "12 X 2 = 24\n",
      "12 X 3 = 36\n",
      "12 X 4 = 48\n",
      "12 X 5 = 60\n",
      "12 X 6 = 72\n",
      "12 X 7 = 84\n",
      "12 X 8 = 96\n",
      "12 X 9 = 108\n",
      "12 X 10 = 120\n"
     ]
    }
   ],
   "source": [
    "table= int(input(\"Enter number:\"))\n",
    "for i in range(1,11):\n",
    "    print(table,\"X\", i, \"=\",table*i)\n",
    "# 12 X 1= 12"
   ]
  },
  {
   "cell_type": "code",
   "execution_count": 11,
   "id": "80609790-da51-46c5-a30f-1ee3d7f23ab1",
   "metadata": {},
   "outputs": [
    {
     "name": "stdout",
     "output_type": "stream",
     "text": [
      "1 number song is playing\n",
      "3 number song is playing\n",
      "5 number song is playing\n",
      "7 number song is playing\n",
      "9 number song is playing\n",
      "11 number song is playing\n",
      "13 number song is playing\n",
      "15 number song is playing\n"
     ]
    }
   ],
   "source": [
    "for i in range(1,16,2): #Start,stop+1,step\n",
    "    print(i, \"number song is playing\")"
   ]
  },
  {
   "cell_type": "markdown",
   "id": "033a7a8a-e9f4-482e-87e1-a6880ea04b74",
   "metadata": {},
   "source": [
    "### 2. While Loop"
   ]
  },
  {
   "cell_type": "code",
   "execution_count": 16,
   "id": "52da3fa1-f2b8-4453-bbd6-360ee488a290",
   "metadata": {},
   "outputs": [
    {
     "name": "stdout",
     "output_type": "stream",
     "text": [
      "1\n",
      "2\n",
      "3\n",
      "4\n",
      "5\n",
      "6\n",
      "7\n",
      "8\n",
      "9\n",
      "10\n",
      "11\n",
      "12\n",
      "13\n",
      "14\n",
      "15\n",
      "16\n",
      "17\n",
      "18\n",
      "19\n",
      "20\n",
      "21\n",
      "22\n",
      "23\n",
      "24\n",
      "25\n",
      "26\n",
      "27\n",
      "28\n",
      "29\n",
      "30\n",
      "31\n",
      "32\n",
      "33\n"
     ]
    }
   ],
   "source": [
    "a = 1\n",
    "while a <34:\n",
    "    print(a)\n",
    "    a+=1"
   ]
  },
  {
   "cell_type": "code",
   "execution_count": 17,
   "id": "21b3feb5-aff7-4142-99c9-a3ded7689145",
   "metadata": {},
   "outputs": [
    {
     "name": "stdin",
     "output_type": "stream",
     "text": [
      "Enter number: 12\n"
     ]
    },
    {
     "name": "stdout",
     "output_type": "stream",
     "text": [
      "12\n",
      "24\n",
      "36\n",
      "48\n",
      "60\n",
      "72\n",
      "84\n",
      "96\n",
      "108\n",
      "120\n"
     ]
    }
   ],
   "source": [
    "table= int(input(\"Enter number:\"))\n",
    "a= 1\n",
    "while a <=10:\n",
    "    print (table*a)\n",
    "    a+=1"
   ]
  },
  {
   "cell_type": "markdown",
   "id": "21dda660-e677-4a62-9df5-b4cb117a9731",
   "metadata": {},
   "source": [
    "### 3. While True"
   ]
  },
  {
   "cell_type": "code",
   "execution_count": 18,
   "id": "632d5de1-e4b1-449b-863f-7c5830473d8a",
   "metadata": {},
   "outputs": [
    {
     "name": "stdout",
     "output_type": "stream",
     "text": [
      "True\n"
     ]
    }
   ],
   "source": [
    "print(1<34)"
   ]
  },
  {
   "cell_type": "code",
   "execution_count": 1,
   "id": "819f7720-3ee2-4ee7-b217-cd450cd76509",
   "metadata": {},
   "outputs": [
    {
     "name": "stdout",
     "output_type": "stream",
     "text": [
      "Hello\n"
     ]
    },
    {
     "name": "stdin",
     "output_type": "stream",
     "text": [
      "do you want to repeat again? no\n"
     ]
    },
    {
     "name": "stdout",
     "output_type": "stream",
     "text": [
      "Hello\n"
     ]
    },
    {
     "name": "stdin",
     "output_type": "stream",
     "text": [
      "do you want to repeat again? n\n"
     ]
    },
    {
     "name": "stdout",
     "output_type": "stream",
     "text": [
      "Hello\n"
     ]
    },
    {
     "name": "stdin",
     "output_type": "stream",
     "text": [
      "do you want to repeat again? q\n"
     ]
    },
    {
     "name": "stdout",
     "output_type": "stream",
     "text": [
      "Hello\n"
     ]
    },
    {
     "name": "stdin",
     "output_type": "stream",
     "text": [
      "do you want to repeat again? No\n"
     ]
    }
   ],
   "source": [
    "while True:\n",
    "    print(\"Hello\")\n",
    "    repeat = input(\"do you want to repeat again?\")\n",
    "    if repeat ==\"No\":\n",
    "        break"
   ]
  },
  {
   "cell_type": "code",
   "execution_count": 3,
   "id": "7f51e256-76ba-4db7-b32b-c132746ba983",
   "metadata": {},
   "outputs": [
    {
     "name": "stdin",
     "output_type": "stream",
     "text": [
      "Enter a number:  1\n",
      "Enter a number:  5\n"
     ]
    },
    {
     "name": "stdout",
     "output_type": "stream",
     "text": [
      "6\n"
     ]
    },
    {
     "name": "stdin",
     "output_type": "stream",
     "text": [
      "do you want to repaet again? n\n",
      "Enter a number:  5\n",
      "Enter a number:  7\n"
     ]
    },
    {
     "name": "stdout",
     "output_type": "stream",
     "text": [
      "12\n"
     ]
    },
    {
     "name": "stdin",
     "output_type": "stream",
     "text": [
      "do you want to repaet again? 34\n",
      "Enter a number:  6\n",
      "Enter a number:  34\n"
     ]
    },
    {
     "name": "stdout",
     "output_type": "stream",
     "text": [
      "40\n"
     ]
    },
    {
     "name": "stdin",
     "output_type": "stream",
     "text": [
      "do you want to repaet again? n\n",
      "Enter a number:  90\n",
      "Enter a number:  12345\n"
     ]
    },
    {
     "name": "stdout",
     "output_type": "stream",
     "text": [
      "12435\n"
     ]
    },
    {
     "name": "stdin",
     "output_type": "stream",
     "text": [
      "do you want to repaet again? no\n"
     ]
    }
   ],
   "source": [
    "while True:\n",
    "    num1 = int(input(\"Enter a number: \"))\n",
    "    num2 = int(input(\"Enter a number: \"))\n",
    "    print (num1+num2)\n",
    "    repeat = input(\"do you want to repaet again?\")\n",
    "    if repeat == \"no\":\n",
    "               break"
   ]
  },
  {
   "cell_type": "markdown",
   "id": "70d9cab1-1396-4d68-984f-ac95f9a14a7b",
   "metadata": {},
   "source": [
    "### 4. Nested Loop"
   ]
  },
  {
   "cell_type": "code",
   "execution_count": 5,
   "id": "fe88ac9e-c3ef-4b14-af02-a76e7db4567f",
   "metadata": {},
   "outputs": [
    {
     "name": "stdout",
     "output_type": "stream",
     "text": [
      "12345678910\n",
      "12345678910\n",
      "12345678910\n"
     ]
    }
   ],
   "source": [
    "for i in range(1,4):\n",
    "    for j in range (1,11):\n",
    "        print(j, end= \"\")\n",
    "    print()"
   ]
  },
  {
   "cell_type": "code",
   "execution_count": 8,
   "id": "80933e7f-1bef-4955-b2a8-273c53cc485d",
   "metadata": {},
   "outputs": [
    {
     "name": "stdout",
     "output_type": "stream",
     "text": [
      "1 2 3 4 5 6 7 8 9 10 1\n",
      "1 2 3 4 5 6 7 8 9 10 2\n",
      "1 2 3 4 5 6 7 8 9 10 3\n"
     ]
    }
   ],
   "source": [
    "for j in range(1,4):\n",
    "    for i in range (1,11):\n",
    "        print(i, end = ' ')\n",
    "    print(j)"
   ]
  },
  {
   "cell_type": "code",
   "execution_count": 11,
   "id": "7ca9ca37-f736-4e46-aceb-c75a6887781b",
   "metadata": {},
   "outputs": [
    {
     "name": "stdin",
     "output_type": "stream",
     "text": [
      "Enter Name Anuj Sharma\n",
      "Enter price:  80\n",
      "Enter quantity 5\n",
      "do you want to add more items? No\n"
     ]
    },
    {
     "name": "stdout",
     "output_type": "stream",
     "text": [
      "------------------------------\n",
      "customer's name:  Anuj Sharma\n",
      "total amount:  400.0\n",
      "------------------------------\n"
     ]
    },
    {
     "name": "stdin",
     "output_type": "stream",
     "text": [
      "next person?  No\n"
     ]
    }
   ],
   "source": [
    "# Super MArket Billing System\n",
    "while True:\n",
    "    name = input(\"Enter Name\")\n",
    "    total= 0\n",
    "    while True:\n",
    "        amount= float(input(\"Enter price: \"))\n",
    "        quantity= float(input(\"Enter quantity\"))\n",
    "        total += quantity * amount\n",
    "        repeat = input(\"do you want to add more items?\")\n",
    "        if repeat == \"No\":\n",
    "            break\n",
    "    print(\"-\"*30)\n",
    "    print(\"customer's name: \", name)\n",
    "    print(\"total amount: \", total)\n",
    "    print(\"-\"*30)\n",
    "    repeat1 = input(\"next person? \")\n",
    "    if repeat1 == \"No\":\n",
    "        break\n",
    "        "
   ]
  },
  {
   "cell_type": "markdown",
   "id": "b69d3192-05d3-4cef-87fd-deb7a4261dec",
   "metadata": {},
   "source": [
    "### 5. For Loop with Conditional Statements"
   ]
  },
  {
   "cell_type": "code",
   "execution_count": 14,
   "id": "358dbbe6-7426-4250-b692-240973d5d8e0",
   "metadata": {},
   "outputs": [
    {
     "name": "stdout",
     "output_type": "stream",
     "text": [
      "24\n",
      "48\n",
      "72\n",
      "96\n"
     ]
    }
   ],
   "source": [
    "for i in range(1,101):\n",
    "    if i % 8 == 0 and i % 12 == 0: \n",
    "        print(i)"
   ]
  },
  {
   "cell_type": "code",
   "execution_count": 16,
   "id": "41bad51c-5430-4e18-889a-8c7edf1d3983",
   "metadata": {},
   "outputs": [
    {
     "name": "stdout",
     "output_type": "stream",
     "text": [
      "0\n",
      "2\n",
      "4\n",
      "6\n",
      "8\n",
      "10\n",
      "12\n",
      "14\n",
      "16\n",
      "18\n",
      "20\n",
      "22\n",
      "24\n",
      "26\n",
      "28\n",
      "30\n",
      "32\n",
      "34\n",
      "36\n",
      "38\n",
      "40\n",
      "42\n",
      "44\n",
      "46\n",
      "48\n",
      "50\n"
     ]
    }
   ],
   "source": [
    "for i in range(0,51):\n",
    "    if i % 2 == 0:\n",
    "        print(i)"
   ]
  },
  {
   "cell_type": "code",
   "execution_count": 18,
   "id": "05af69a5-e974-44e4-bb49-b655a9acbaac",
   "metadata": {},
   "outputs": [
    {
     "name": "stdout",
     "output_type": "stream",
     "text": [
      "1\n",
      "2\n",
      "3\n",
      "4\n",
      "5\n",
      "Bingo\n",
      "7\n",
      "8\n",
      "9\n",
      "10\n",
      "11\n",
      "Bingo\n",
      "13\n",
      "14\n",
      "15\n",
      "16\n",
      "17\n",
      "Bingo\n",
      "19\n",
      "20\n",
      "21\n",
      "22\n",
      "23\n",
      "Bingo\n",
      "25\n",
      "26\n",
      "27\n",
      "28\n",
      "29\n",
      "Bingo\n",
      "31\n",
      "32\n",
      "33\n",
      "34\n",
      "35\n",
      "Bingo\n",
      "37\n",
      "38\n",
      "39\n",
      "40\n",
      "41\n",
      "Bingo\n",
      "43\n",
      "44\n",
      "45\n",
      "46\n",
      "47\n",
      "Bingo\n",
      "49\n",
      "50\n",
      "51\n",
      "52\n",
      "53\n",
      "Bingo\n",
      "55\n",
      "56\n",
      "57\n",
      "58\n",
      "59\n",
      "Bingo\n"
     ]
    }
   ],
   "source": [
    "for i in range (1,61):\n",
    "    if i % 6 == 0:\n",
    "        print(\"Bingo\")\n",
    "    else:\n",
    "        print(i)"
   ]
  },
  {
   "cell_type": "markdown",
   "id": "9e87fb5c-8946-42ea-94cc-7233fcf9eccc",
   "metadata": {},
   "source": [
    "### Break and Continue"
   ]
  },
  {
   "cell_type": "code",
   "execution_count": 26,
   "id": "639895cd-6378-409e-a928-3f6339753da9",
   "metadata": {},
   "outputs": [
    {
     "name": "stdout",
     "output_type": "stream",
     "text": [
      "1 number song is playing\n",
      "2 number song is playing\n",
      "3 number song is playing\n",
      "4 number song is playing\n",
      "5 number song is playing\n",
      "6 number song is playing\n",
      "7 number song is playing\n",
      "8 number song is playing\n",
      "9 number song is playing\n",
      "10 number song is playing\n",
      "11 number song is playing\n",
      "12 number song is playing\n",
      "13 number song is playing\n",
      "14 number song is playing\n"
     ]
    }
   ],
   "source": [
    "for i in range (1,21):\n",
    "    if i == 15:\n",
    "        break # break is use to break the loop\n",
    "    else:\n",
    "        print(i, \"number song is playing\")"
   ]
  },
  {
   "cell_type": "code",
   "execution_count": 23,
   "id": "0277ae34-0857-42c7-8e42-7a94c07500c5",
   "metadata": {},
   "outputs": [
    {
     "name": "stdin",
     "output_type": "stream",
     "text": [
      "Do you want to reapeat again?  u\n",
      "Do you want to reapeat again?  yes\n",
      "Do you want to reapeat again?  No\n"
     ]
    }
   ],
   "source": [
    "while True:\n",
    "    repeat = input(\"Do you want to reapeat again? \")\n",
    "    if repeat == \"No\":\n",
    "        break"
   ]
  },
  {
   "cell_type": "code",
   "execution_count": 27,
   "id": "2d0bb6e0-7f47-4408-9d10-711f758d887e",
   "metadata": {},
   "outputs": [
    {
     "name": "stdout",
     "output_type": "stream",
     "text": [
      "1 number song is playing\n",
      "2 number song is playing\n",
      "3 number song is playing\n",
      "4 number song is playing\n",
      "5 number song is playing\n",
      "6 number song is playing\n",
      "7 number song is playing\n",
      "8 number song is playing\n",
      "9 number song is playing\n",
      "11 number song is playing\n",
      "12 number song is playing\n",
      "13 number song is playing\n",
      "14 number song is playing\n",
      "15 number song is playing\n",
      "16 number song is playing\n",
      "17 number song is playing\n",
      "18 number song is playing\n",
      "19 number song is playing\n",
      "20 number song is playing\n"
     ]
    }
   ],
   "source": [
    "for i in range (1,21):\n",
    "    if i == 10:\n",
    "        continue # skip the particular condition\n",
    "    else:\n",
    "        print(i, \"number song is playing\")"
   ]
  },
  {
   "cell_type": "markdown",
   "id": "154d305e-2ab3-491a-b1c5-db24f463cc33",
   "metadata": {},
   "source": [
    "# Introduction to Strings"
   ]
  },
  {
   "cell_type": "markdown",
   "id": "38acedbd-81b3-4681-8b7d-2d2d9141c51f",
   "metadata": {},
   "source": [
    "#### String is anything inside (\"\") is a string. It can be a letter, Number, Symbol and combition."
   ]
  },
  {
   "cell_type": "code",
   "execution_count": 28,
   "id": "91b0476b-cc9f-4074-8ad9-4386b9ce9030",
   "metadata": {},
   "outputs": [],
   "source": [
    "a = \"12345\"\n",
    "b = \"hello\"\n",
    "c = \"(*&*^&\"\n",
    "d = \"hello123@@@\""
   ]
  },
  {
   "cell_type": "markdown",
   "id": "e56e4235-d3ad-4805-9fd1-1c5f9470efac",
   "metadata": {},
   "source": [
    "## Indexing and Slicing in Strings"
   ]
  },
  {
   "cell_type": "markdown",
   "id": "3c2c9ef6-ad66-467d-a2f0-1cd528a8aaf3",
   "metadata": {},
   "source": [
    "### Indexing in Strings"
   ]
  },
  {
   "cell_type": "code",
   "execution_count": 30,
   "id": "10c7ae0f-62d4-455f-aa72-2e49c6a31d00",
   "metadata": {},
   "outputs": [
    {
     "name": "stdout",
     "output_type": "stream",
     "text": [
      "H\n",
      "o\n"
     ]
    }
   ],
   "source": [
    "a = \"Hello\"\n",
    "print(a[0])\n",
    "print(a[-1])"
   ]
  },
  {
   "cell_type": "code",
   "execution_count": 42,
   "id": "227a06dd-2916-4853-a3c0-c4160fab383e",
   "metadata": {},
   "outputs": [
    {
     "name": "stdout",
     "output_type": "stream",
     "text": [
      "w\n",
      " \n",
      "r\n",
      "r\n",
      "d\n"
     ]
    }
   ],
   "source": [
    "b = \"Hello world\"\n",
    "print(b[6]) # Positive indexing concept start with (0)\n",
    "print(b[-6]) # Negative indexing start conceopt with (-1)\n",
    "print(b[-3])\n",
    "print(b[8])\n",
    "print(b[-1])"
   ]
  },
  {
   "cell_type": "code",
   "execution_count": 41,
   "id": "a16f42e4-63f2-42e2-ba26-a75503169aca",
   "metadata": {},
   "outputs": [
    {
     "name": "stdout",
     "output_type": "stream",
     "text": [
      "h\n",
      "h\n"
     ]
    }
   ],
   "source": [
    "c = \"Python\"\n",
    "print(c[3]) # Positive Indexing\n",
    "print(c[-3]) # Negative Indexing"
   ]
  },
  {
   "cell_type": "markdown",
   "id": "efde8363-1c74-4ce0-8f59-f515297fae21",
   "metadata": {},
   "source": [
    "### Slicing in Strings\n",
    "##### Slicing - Start, Stop +1, step (Default value is 1)"
   ]
  },
  {
   "cell_type": "code",
   "execution_count": 4,
   "id": "2ae1b861-b597-4ada-8e34-eb1619265a7d",
   "metadata": {},
   "outputs": [
    {
     "name": "stdout",
     "output_type": "stream",
     "text": [
      "Harry\n",
      "Goblet\n",
      "Fire\n",
      "the\n",
      "Potter\n",
      "Harry Potter\n",
      "eriF fo telboG eht dna rettoP yrraH\n"
     ]
    }
   ],
   "source": [
    "a = \"Harry Potter and the Goblet of Fire\"\n",
    "print(a[0:5]) # Positive Slicing\n",
    "print(a[-14:-8]) # Negative Slicing\n",
    "print(a[-4:]) # Negative Slicing\n",
    "print(a[-18:-15]) # Negative Slicing\n",
    "print(a[6:12]) # Positive Slicing\n",
    "print(a[:12])\n",
    "print(a[::-1]) # Reverse string"
   ]
  },
  {
   "cell_type": "code",
   "execution_count": 10,
   "id": "f327f412-633b-4fcf-9c8c-ee8ae43fba8e",
   "metadata": {},
   "outputs": [
    {
     "name": "stdout",
     "output_type": "stream",
     "text": [
      "3342\n",
      "3434\n",
      "434\n"
     ]
    }
   ],
   "source": [
    "c = \"3434 3434 6786 3342\"\n",
    "print(c[-4:])\n",
    "print(c[0:4])\n",
    "print(c[:9])"
   ]
  },
  {
   "cell_type": "markdown",
   "id": "476fb9f1-8816-4843-aad4-8b1193f15c72",
   "metadata": {},
   "source": [
    "### String Function Part - 1"
   ]
  },
  {
   "cell_type": "code",
   "execution_count": 17,
   "id": "b89975b7-9667-4e96-9350-73a9dda97cef",
   "metadata": {},
   "outputs": [
    {
     "name": "stdout",
     "output_type": "stream",
     "text": [
      "5\n",
      "35\n"
     ]
    }
   ],
   "source": [
    "# 1. Length Function : - Find the length of the string.\n",
    "a = \"Hello\"\n",
    "b = \"Harry Potter and the Goblet of fire\"\n",
    "print(len(a))\n",
    "print(len(b))"
   ]
  },
  {
   "cell_type": "code",
   "execution_count": 44,
   "id": "df8b8c83-6c2a-457a-9734-7f37d4c9d5a6",
   "metadata": {},
   "outputs": [
    {
     "name": "stdout",
     "output_type": "stream",
     "text": [
      "1\n",
      "4\n",
      "6\n",
      "1\n",
      "29\n"
     ]
    }
   ],
   "source": [
    "# 2. Count Function : - Find the occurance of each element in the string.\n",
    "a = \"Hello\"\n",
    "b = \"Harry Potter and the Goblet of fire\"\n",
    "print(a.count('e'))\n",
    "print(b.count(\"e\"))\n",
    "print(b.count(\" \"))\n",
    "print(b.count(\"h\"))\n",
    "print(len(b)- b. count(\" \"))"
   ]
  },
  {
   "cell_type": "code",
   "execution_count": 45,
   "id": "62debab9-f39b-42a3-9a1f-1021e3555446",
   "metadata": {},
   "outputs": [
    {
     "name": "stdout",
     "output_type": "stream",
     "text": [
      "HELLO\n",
      "HARRY POTTER AND THE GOBLET OF FIRE\n"
     ]
    }
   ],
   "source": [
    "# 3. Upper Case Function:- Capitalizes each character.\n",
    "a = \"Hello\"\n",
    "b = \"Harry Potter and the Goblet of fire\"\n",
    "print(a.upper())\n",
    "print(b.upper())"
   ]
  },
  {
   "cell_type": "code",
   "execution_count": 26,
   "id": "868af44e-67d8-487a-a421-c16d98ae07f9",
   "metadata": {},
   "outputs": [
    {
     "name": "stdout",
     "output_type": "stream",
     "text": [
      "hello\n",
      "harry potter and the goblet of fire\n"
     ]
    }
   ],
   "source": [
    "# 4. Lower Case Function:- Converts each alphabet into samll case.\n",
    "a = \"Hello\"\n",
    "b = \"Harry Potter and the Goblet of fire\"\n",
    "print(a.lower())\n",
    "print(b.lower())"
   ]
  },
  {
   "cell_type": "code",
   "execution_count": 46,
   "id": "f8ac11b4-4904-4d45-bebf-1efabd4bbee2",
   "metadata": {},
   "outputs": [
    {
     "name": "stdout",
     "output_type": "stream",
     "text": [
      "Hello\n",
      "Harry potter and the goblet of fire\n"
     ]
    }
   ],
   "source": [
    "# 5. Capitalize Function :- Capitalize first letter of the whole string.\n",
    "a = \"Hello\"\n",
    "b = \"Harry Potter and the Goblet of fire\"\n",
    "print(a.capitalize())\n",
    "print(b. capitalize())"
   ]
  },
  {
   "cell_type": "code",
   "execution_count": 28,
   "id": "68eeee5c-4380-4e21-b461-97070e13c911",
   "metadata": {},
   "outputs": [
    {
     "name": "stdout",
     "output_type": "stream",
     "text": [
      "Hello\n",
      "Harry Potter And The Goblet Of Fire\n"
     ]
    }
   ],
   "source": [
    "# 6. title Function:- Capaitalize frist letter of each words.\n",
    "a = \"Hello\"\n",
    "b = \"Harry Potter and the Goblet of fire\"\n",
    "print(a.title())\n",
    "print(b.title())"
   ]
  },
  {
   "cell_type": "code",
   "execution_count": 36,
   "id": "f9c31257-8b3f-4bf4-93e0-247e3ad53942",
   "metadata": {},
   "outputs": [
    {
     "name": "stdout",
     "output_type": "stream",
     "text": [
      "tool\n",
      "67000\n"
     ]
    }
   ],
   "source": [
    "# 7. Replace Function :- Replaces the elements with the desired elements.\n",
    "a = \"tip\"\n",
    "print(a.replace(\"ip\",\"ool\"))\n",
    "b = \"$67000\"\n",
    "print(b.replace(\"$\", \"\"))"
   ]
  },
  {
   "cell_type": "code",
   "execution_count": 38,
   "id": "121d803c-9e8f-46ed-b8ca-3a141488d917",
   "metadata": {},
   "outputs": [
    {
     "name": "stdout",
     "output_type": "stream",
     "text": [
      "['Harry', 'potter', 'and', 'the', 'Goblet', 'of', 'fire']\n",
      "['anujsharma', 'gmail.com']\n"
     ]
    }
   ],
   "source": [
    "# 8. Slit Function:- Breaks the strings with the provide delimeter.\n",
    "a= \"Harry potter and the Goblet of fire\"\n",
    "print(a.split())\n",
    "b = \"anujsharma@gmail.com\"\n",
    "print(b.split(\"@\"))"
   ]
  },
  {
   "cell_type": "code",
   "execution_count": 47,
   "id": "899ddc90-e12a-4342-9a27-6dd34bdbca36",
   "metadata": {},
   "outputs": [
    {
     "name": "stdout",
     "output_type": "stream",
     "text": [
      " Anuj  \n",
      "Anuj\n"
     ]
    }
   ],
   "source": [
    "# 9. Strip Function:- To remove balnk or white Spaces.\n",
    "a= \" Anuj  \"\n",
    "print(a)\n",
    "print(a.strip())"
   ]
  },
  {
   "cell_type": "markdown",
   "id": "93425ea1-8f4d-472b-aa55-28d6c89aaf35",
   "metadata": {},
   "source": [
    "### String Functions Part - 2"
   ]
  },
  {
   "cell_type": "code",
   "execution_count": 52,
   "id": "963ca2ed-5d2c-491c-9c9a-16ce35ea73c3",
   "metadata": {},
   "outputs": [
    {
     "name": "stdout",
     "output_type": "stream",
     "text": [
      "False\n",
      "True\n"
     ]
    }
   ],
   "source": [
    "# 10. islower Function: - Check if String is in Samll Case.\n",
    "a = \"Hello\"\n",
    "b= \"hello788\"\n",
    "print(a.islower())\n",
    "print(b.islower())"
   ]
  },
  {
   "cell_type": "code",
   "execution_count": 54,
   "id": "4a43e9e0-f100-489d-89e1-bc93b9475c5d",
   "metadata": {},
   "outputs": [
    {
     "name": "stdout",
     "output_type": "stream",
     "text": [
      "False\n",
      "True\n"
     ]
    }
   ],
   "source": [
    "# 11. isupper Function: -  Check if String is in Upper case.\n",
    "a = \"Hello\"\n",
    "b= \"HELLO999\"\n",
    "print(a.isupper())\n",
    "print(b.isupper())"
   ]
  },
  {
   "cell_type": "code",
   "execution_count": 57,
   "id": "cccf2c33-d7e3-4646-aaf1-79b3939878ff",
   "metadata": {},
   "outputs": [
    {
     "name": "stdout",
     "output_type": "stream",
     "text": [
      "True\n",
      "False\n"
     ]
    }
   ],
   "source": [
    "# 12. istitle Function: - Check if String has the frist letter of each words as capital.\n",
    "a = \"Hello World\"\n",
    "b= \"hello World\"\n",
    "print(a.istitle())\n",
    "print(b.istitle())"
   ]
  },
  {
   "cell_type": "code",
   "execution_count": 58,
   "id": "491bb2ea-a722-4087-a797-8fd7589923b0",
   "metadata": {},
   "outputs": [
    {
     "name": "stdout",
     "output_type": "stream",
     "text": [
      "True\n",
      "False\n"
     ]
    }
   ],
   "source": [
    "# 13. isalpha Function: - Check if String has all albhabets only.\n",
    "a = \"Hello\"\n",
    "b= \"hello788\"\n",
    "print(a.isalpha())\n",
    "print(b.isalpha())"
   ]
  },
  {
   "cell_type": "code",
   "execution_count": 61,
   "id": "0288e413-4d8e-4177-93aa-7d9e2174bd36",
   "metadata": {},
   "outputs": [
    {
     "name": "stdout",
     "output_type": "stream",
     "text": [
      "True\n",
      "True\n"
     ]
    }
   ],
   "source": [
    "# 14. isalnum Function: - Check if the String has alphabets or numbers / Combination.\n",
    "a = \"Hello\"\n",
    "b= \"hello788\"\n",
    "print(a.isalnum())\n",
    "print(b.isalnum())"
   ]
  },
  {
   "cell_type": "code",
   "execution_count": 62,
   "id": "ee818abc-e2b3-4904-9b5c-3bcad8268ce8",
   "metadata": {},
   "outputs": [
    {
     "name": "stdout",
     "output_type": "stream",
     "text": [
      "False\n",
      "True\n"
     ]
    }
   ],
   "source": [
    "# 15. isdigit Function: - Checks if the String has only numbers.\n",
    "a = \"Hello\"\n",
    "b= \"788\"\n",
    "print(a.isdigit())\n",
    "print(b.isdigit())"
   ]
  },
  {
   "cell_type": "code",
   "execution_count": 64,
   "id": "4b517c1d-7a6d-44c0-a2d6-24e22b0fd3cf",
   "metadata": {},
   "outputs": [
    {
     "name": "stdout",
     "output_type": "stream",
     "text": [
      "False\n",
      "True\n"
     ]
    }
   ],
   "source": [
    "# 16. isspace Function: - Checks if the string has only spaces.\n",
    "a = \"Hello\"\n",
    "b= \"  \"\n",
    "print(a.isspace())\n",
    "print(b.isspace())"
   ]
  },
  {
   "cell_type": "markdown",
   "id": "569f5f7a-b707-4411-95f3-959660e89c5f",
   "metadata": {},
   "source": [
    "### Iteration in Strings"
   ]
  },
  {
   "cell_type": "code",
   "execution_count": 68,
   "id": "b76c023c-dd9c-4091-8a68-ceb88032bba5",
   "metadata": {},
   "outputs": [
    {
     "name": "stdout",
     "output_type": "stream",
     "text": [
      "14\n"
     ]
    }
   ],
   "source": [
    "# Lenght\n",
    "a = \"I Love Python\"\n",
    "lenght = 0\n",
    "for i in a:\n",
    "    lenght+=1\n",
    "print(lenght)"
   ]
  },
  {
   "cell_type": "code",
   "execution_count": 72,
   "id": "df08e484-bb1a-4da1-af49-914ef3014293",
   "metadata": {},
   "outputs": [
    {
     "name": "stdout",
     "output_type": "stream",
     "text": [
      "2\n"
     ]
    }
   ],
   "source": [
    "# Count\n",
    "a = \"I Love Python\"\n",
    "count = 0\n",
    "for i in a:\n",
    "    if i == \" \":\n",
    "        count+=1\n",
    "print(count)"
   ]
  },
  {
   "cell_type": "code",
   "execution_count": 77,
   "id": "0e8dac57-00a5-43d8-bbd3-1e4ce52f0cdd",
   "metadata": {},
   "outputs": [
    {
     "name": "stdout",
     "output_type": "stream",
     "text": [
      "i LOVE Python\n"
     ]
    }
   ],
   "source": [
    "# \n",
    "a = \"I Love Python\"\n",
    "print(a[0:2].lower()+a[2:6].upper() + a[-7:] )"
   ]
  },
  {
   "cell_type": "code",
   "execution_count": 84,
   "id": "a9167d8c-0c93-45b3-84c7-926c8f7b41df",
   "metadata": {},
   "outputs": [
    {
     "name": "stdout",
     "output_type": "stream",
     "text": [
      "3\n"
     ]
    }
   ],
   "source": [
    "# count vowels\n",
    "a = \"harry potter\"\n",
    "vcount = 0\n",
    "for i in a:\n",
    "    if i in \"aeiou\":\n",
    "        vcount +=1\n",
    "print(vcount)"
   ]
  },
  {
   "cell_type": "markdown",
   "id": "c7bd8175-84cf-4ada-ad2f-5fa0de31a2e3",
   "metadata": {},
   "source": [
    "# List"
   ]
  },
  {
   "cell_type": "code",
   "execution_count": null,
   "id": "61ad6441-9d30-4bd4-96f1-23d6cdb1412e",
   "metadata": {},
   "outputs": [],
   "source": []
  }
 ],
 "metadata": {
  "kernelspec": {
   "display_name": "Python 3 (ipykernel)",
   "language": "python",
   "name": "python3"
  },
  "language_info": {
   "codemirror_mode": {
    "name": "ipython",
    "version": 3
   },
   "file_extension": ".py",
   "mimetype": "text/x-python",
   "name": "python",
   "nbconvert_exporter": "python",
   "pygments_lexer": "ipython3",
   "version": "3.10.8"
  }
 },
 "nbformat": 4,
 "nbformat_minor": 5
}
